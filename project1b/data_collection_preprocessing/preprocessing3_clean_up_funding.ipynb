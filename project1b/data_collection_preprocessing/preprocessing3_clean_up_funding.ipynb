{
 "cells": [
  {
   "cell_type": "markdown",
   "metadata": {},
   "source": [
    "## Clean up \"money_raised\" column"
   ]
  },
  {
   "cell_type": "code",
   "execution_count": 1,
   "metadata": {
    "collapsed": true
   },
   "outputs": [],
   "source": [
    "# Clean up before getting a company profile for each company from linkedin\n",
    "# step.0 clean up currency --- still abit remained\n",
    "# step.1 check funding_round is NA"
   ]
  },
  {
   "cell_type": "code",
   "execution_count": 2,
   "metadata": {
    "collapsed": true
   },
   "outputs": [],
   "source": [
    "import pandas as pd\n",
    "import re\n",
    "data = pd.read_csv(\"article_after_processing2.csv\", encoding='iso-8859-1')"
   ]
  },
  {
   "cell_type": "code",
   "execution_count": 3,
   "metadata": {
    "scrolled": true
   },
   "outputs": [
    {
     "data": {
      "text/plain": [
       "(616, 7)"
      ]
     },
     "execution_count": 3,
     "metadata": {},
     "output_type": "execute_result"
    }
   ],
   "source": [
    "data.shape"
   ]
  },
  {
   "cell_type": "code",
   "execution_count": 4,
   "metadata": {
    "collapsed": true
   },
   "outputs": [],
   "source": [
    "def convert_pond_to_dollar(money):\n",
    "    match = re.search(r'^\\£(\\w+\\.*\\w*)\\s(\\w)', money)\n",
    "    if match:\n",
    "        calc = float(match.group(1)) * 1.29\n",
    "        return \"${} {}\".format(str(round(calc, 1)), match.group(2))\n",
    "    else:\n",
    "        return money\n",
    "    \n",
    "data[\"money_raised\"] = data.money_raised.apply(lambda money: convert_pond_to_dollar(money))"
   ]
  },
  {
   "cell_type": "code",
   "execution_count": 5,
   "metadata": {
    "collapsed": true
   },
   "outputs": [],
   "source": [
    "def convert_euro_to_dollar(row):\n",
    "    if re.search(r'^\\$|unknown', row[\"money_raised\"]):\n",
    "        return row[\"money_raised\"]  \n",
    "    else:\n",
    "        if re.search(r'Europ|French|German|Finnish|Dutch', row[\"title\"]) or re.search(r'Europ|German|Finnish|Dutch', row[\"excerpt\"]):\n",
    "            match = re.search(r'\\d+\\.*\\d*', row[\"money_raised\"])\n",
    "            calc = float(match.group(0)) * 1.19\n",
    "            return \"${} {}\".format(str(round(calc, 1)), \"M\")\n",
    "        else:\n",
    "            return row[\"money_raised\"]\n",
    "            \n",
    "    \n",
    "data[\"money_raised\"] = data.apply(lambda row: convert_euro_to_dollar(row), axis = 1)"
   ]
  },
  {
   "cell_type": "code",
   "execution_count": 6,
   "metadata": {
    "scrolled": true
   },
   "outputs": [
    {
     "data": {
      "text/html": [
       "<div>\n",
       "<table border=\"1\" class=\"dataframe\">\n",
       "  <thead>\n",
       "    <tr style=\"text-align: right;\">\n",
       "      <th></th>\n",
       "      <th>title</th>\n",
       "      <th>link</th>\n",
       "      <th>excerpt</th>\n",
       "      <th>published_at</th>\n",
       "      <th>funding_round</th>\n",
       "      <th>money_raised</th>\n",
       "      <th>Company</th>\n",
       "    </tr>\n",
       "  </thead>\n",
       "  <tbody>\n",
       "    <tr>\n",
       "      <th>196</th>\n",
       "      <td>TiVo Series 3 Modded to 1TB</td>\n",
       "      <td>https://techcrunch.com/2006/10/17/tivo-series-...</td>\n",
       "      <td>If the 250GB of storage on your Series 3 TiVo ...</td>\n",
       "      <td>2006/10/17</td>\n",
       "      <td>NaN</td>\n",
       "      <td>3 M</td>\n",
       "      <td>TiVo</td>\n",
       "    </tr>\n",
       "    <tr>\n",
       "      <th>222</th>\n",
       "      <td>The Facebook Button Is Back On Phones: Nokia P...</td>\n",
       "      <td>https://techcrunch.com/2012/11/26/the-facebook...</td>\n",
       "      <td>Amid all the Windows Phone, luridly coloured L...</td>\n",
       "      <td>2012/11/26</td>\n",
       "      <td>NaN</td>\n",
       "      <td>2.9 M</td>\n",
       "      <td>Asha 205</td>\n",
       "    </tr>\n",
       "    <tr>\n",
       "      <th>258</th>\n",
       "      <td>BranchOut Hits 25 Million Users, Nabs $25M In ...</td>\n",
       "      <td>https://techcrunch.com/2012/04/19/branchout-25...</td>\n",
       "      <td>BranchOut is officially going for the big time...</td>\n",
       "      <td>2012/04/19</td>\n",
       "      <td>Series C</td>\n",
       "      <td>25 M</td>\n",
       "      <td>Million Users,</td>\n",
       "    </tr>\n",
       "    <tr>\n",
       "      <th>301</th>\n",
       "      <td>Index Ventures Leads ?10M Series C In Online P...</td>\n",
       "      <td>https://techcrunch.com/2013/12/02/index-ventur...</td>\n",
       "      <td>Index Ventures has led a ?10 million Series C ...</td>\n",
       "      <td>2013/12/02</td>\n",
       "      <td>Series C</td>\n",
       "      <td>?10 M</td>\n",
       "      <td>Index Ventures</td>\n",
       "    </tr>\n",
       "    <tr>\n",
       "      <th>457</th>\n",
       "      <td>Index Ventures Leads â?¬10M Series C In Online...</td>\n",
       "      <td>https://techcrunch.com/2013/12/02/index-ventur...</td>\n",
       "      <td>Index Ventures has led aÂ â?¬10 million Series...</td>\n",
       "      <td>2013/12/02</td>\n",
       "      <td>Series C</td>\n",
       "      <td>¬10 M</td>\n",
       "      <td>Index Ventures</td>\n",
       "    </tr>\n",
       "    <tr>\n",
       "      <th>488</th>\n",
       "      <td>Social Media Curation For Media Firms Crowdyne...</td>\n",
       "      <td>https://techcrunch.com/2015/01/12/social-media...</td>\n",
       "      <td>Crowdynews, a social media curation platform a...</td>\n",
       "      <td>2015/01/12</td>\n",
       "      <td>Series A</td>\n",
       "      <td>¬2.5 M</td>\n",
       "      <td>Crowdynews</td>\n",
       "    </tr>\n",
       "    <tr>\n",
       "      <th>500</th>\n",
       "      <td>Price f(x) raises â?¬4M Series A for pricing o...</td>\n",
       "      <td>https://techcrunch.com/2016/12/20/price-fx/</td>\n",
       "      <td>Price f(x), a pricing optimization SaaS, has r...</td>\n",
       "      <td>2016/12/20</td>\n",
       "      <td>Series A</td>\n",
       "      <td>¬4 M</td>\n",
       "      <td>Price f(x)</td>\n",
       "    </tr>\n",
       "    <tr>\n",
       "      <th>580</th>\n",
       "      <td>Fuji adds even more colors of the rainbow to t...</td>\n",
       "      <td>https://techcrunch.com/2008/01/24/fuji-adds-ev...</td>\n",
       "      <td>For the fun, zany, quirky folks comes the Fine...</td>\n",
       "      <td>2008/01/24</td>\n",
       "      <td>NaN</td>\n",
       "      <td>45 M</td>\n",
       "      <td>Fuji</td>\n",
       "    </tr>\n",
       "  </tbody>\n",
       "</table>\n",
       "</div>"
      ],
      "text/plain": [
       "                                                 title  \\\n",
       "196                        TiVo Series 3 Modded to 1TB   \n",
       "222  The Facebook Button Is Back On Phones: Nokia P...   \n",
       "258  BranchOut Hits 25 Million Users, Nabs $25M In ...   \n",
       "301  Index Ventures Leads ?10M Series C In Online P...   \n",
       "457  Index Ventures Leads â?¬10M Series C In Online...   \n",
       "488  Social Media Curation For Media Firms Crowdyne...   \n",
       "500  Price f(x) raises â?¬4M Series A for pricing o...   \n",
       "580  Fuji adds even more colors of the rainbow to t...   \n",
       "\n",
       "                                                  link  \\\n",
       "196  https://techcrunch.com/2006/10/17/tivo-series-...   \n",
       "222  https://techcrunch.com/2012/11/26/the-facebook...   \n",
       "258  https://techcrunch.com/2012/04/19/branchout-25...   \n",
       "301  https://techcrunch.com/2013/12/02/index-ventur...   \n",
       "457  https://techcrunch.com/2013/12/02/index-ventur...   \n",
       "488  https://techcrunch.com/2015/01/12/social-media...   \n",
       "500        https://techcrunch.com/2016/12/20/price-fx/   \n",
       "580  https://techcrunch.com/2008/01/24/fuji-adds-ev...   \n",
       "\n",
       "                                               excerpt published_at  \\\n",
       "196  If the 250GB of storage on your Series 3 TiVo ...   2006/10/17   \n",
       "222  Amid all the Windows Phone, luridly coloured L...   2012/11/26   \n",
       "258  BranchOut is officially going for the big time...   2012/04/19   \n",
       "301  Index Ventures has led a ?10 million Series C ...   2013/12/02   \n",
       "457  Index Ventures has led aÂ â?¬10 million Series...   2013/12/02   \n",
       "488  Crowdynews, a social media curation platform a...   2015/01/12   \n",
       "500  Price f(x), a pricing optimization SaaS, has r...   2016/12/20   \n",
       "580  For the fun, zany, quirky folks comes the Fine...   2008/01/24   \n",
       "\n",
       "    funding_round money_raised         Company  \n",
       "196           NaN          3 M            TiVo  \n",
       "222           NaN        2.9 M        Asha 205  \n",
       "258      Series C         25 M  Million Users,  \n",
       "301      Series C        ?10 M  Index Ventures  \n",
       "457      Series C        ¬10 M  Index Ventures  \n",
       "488      Series A       ¬2.5 M      Crowdynews  \n",
       "500      Series A         ¬4 M      Price f(x)  \n",
       "580           NaN         45 M            Fuji  "
      ]
     },
     "execution_count": 6,
     "metadata": {},
     "output_type": "execute_result"
    }
   ],
   "source": [
    "# inspect companies that raise more than 10M. there are only four\n",
    "mask = data.money_raised.apply(\n",
    "    lambda money: False if re.search(r'^\\$|unknown', money) else True)\n",
    "data.loc[mask]"
   ]
  },
  {
   "cell_type": "code",
   "execution_count": 7,
   "metadata": {
    "scrolled": false
   },
   "outputs": [
    {
     "data": {
      "text/plain": [
       "title            Fuji adds even more colors of the rainbow to t...\n",
       "link             https://techcrunch.com/2008/01/24/fuji-adds-ev...\n",
       "excerpt          For the fun, zany, quirky folks comes the Fine...\n",
       "published_at                                            2008/01/24\n",
       "funding_round                                                  NaN\n",
       "money_raised                                                  45 M\n",
       "Company                                                       Fuji\n",
       "Name: 580, dtype: object"
      ]
     },
     "execution_count": 7,
     "metadata": {},
     "output_type": "execute_result"
    }
   ],
   "source": [
    "data.loc[580] # drop this becuase this article is not about startup"
   ]
  },
  {
   "cell_type": "code",
   "execution_count": 8,
   "metadata": {
    "scrolled": true
   },
   "outputs": [
    {
     "data": {
      "text/plain": [
       "title            Index Ventures Leads â?¬10M Series C In Online...\n",
       "link             https://techcrunch.com/2013/12/02/index-ventur...\n",
       "excerpt          Index Ventures has led aÂ â?¬10 million Series...\n",
       "published_at                                            2013/12/02\n",
       "funding_round                                             Series C\n",
       "money_raised                                                 ¬10 M\n",
       "Company                                             Index Ventures\n",
       "Name: 457, dtype: object"
      ]
     },
     "execution_count": 8,
     "metadata": {},
     "output_type": "execute_result"
    }
   ],
   "source": [
    "data.loc[457] # this is same to loc[301]. drop this."
   ]
  },
  {
   "cell_type": "code",
   "execution_count": 9,
   "metadata": {
    "scrolled": true
   },
   "outputs": [
    {
     "data": {
      "text/plain": [
       "title            BranchOut Hits 25 Million Users, Nabs $25M In ...\n",
       "link             https://techcrunch.com/2012/04/19/branchout-25...\n",
       "excerpt          BranchOut is officially going for the big time...\n",
       "published_at                                            2012/04/19\n",
       "funding_round                                             Series C\n",
       "money_raised                                                  25 M\n",
       "Company                                             Million Users,\n",
       "Name: 258, dtype: object"
      ]
     },
     "execution_count": 9,
     "metadata": {},
     "output_type": "execute_result"
    }
   ],
   "source": [
    "data.loc[258]"
   ]
  },
  {
   "cell_type": "code",
   "execution_count": 10,
   "metadata": {
    "collapsed": true
   },
   "outputs": [],
   "source": [
    "data.loc[258].Company = \"BranchOut\"\n",
    "data.loc[258].money_raised = \"$25 M\""
   ]
  },
  {
   "cell_type": "code",
   "execution_count": 11,
   "metadata": {
    "scrolled": true
   },
   "outputs": [
    {
     "data": {
      "text/plain": [
       "title            Index Ventures Leads ?10M Series C In Online P...\n",
       "link             https://techcrunch.com/2013/12/02/index-ventur...\n",
       "excerpt          Index Ventures has led a ?10 million Series C ...\n",
       "published_at                                            2013/12/02\n",
       "funding_round                                             Series C\n",
       "money_raised                                                 ?10 M\n",
       "Company                                             Index Ventures\n",
       "Name: 301, dtype: object"
      ]
     },
     "execution_count": 11,
     "metadata": {},
     "output_type": "execute_result"
    }
   ],
   "source": [
    "data.loc[301]"
   ]
  },
  {
   "cell_type": "code",
   "execution_count": 12,
   "metadata": {
    "collapsed": true
   },
   "outputs": [],
   "source": [
    "data.loc[301].Company = \"Navabi\"\n",
    "data.loc[301].money_raised = \"$12 M\""
   ]
  },
  {
   "cell_type": "code",
   "execution_count": 13,
   "metadata": {
    "scrolled": true
   },
   "outputs": [],
   "source": [
    "# drop the rest\n",
    "mask = data.money_raised.apply(\n",
    "    lambda money: False if re.search(r'^\\$|unknown', money) else True)\n",
    "data.drop(data.loc[mask].index, inplace = True)"
   ]
  },
  {
   "cell_type": "code",
   "execution_count": 15,
   "metadata": {},
   "outputs": [
    {
     "data": {
      "text/plain": [
       "19"
      ]
     },
     "execution_count": 15,
     "metadata": {},
     "output_type": "execute_result"
    }
   ],
   "source": [
    "# there are 19 \"unknown\" for \"money_raised\"\n",
    "sum((data.money_raised == \"unknown\"))"
   ]
  },
  {
   "cell_type": "code",
   "execution_count": 16,
   "metadata": {},
   "outputs": [],
   "source": [
    "# drop unknowns\n",
    "data.drop(data.index[(data.money_raised == \"unknown\")], inplace = True)"
   ]
  },
  {
   "cell_type": "code",
   "execution_count": 17,
   "metadata": {
    "scrolled": true
   },
   "outputs": [
    {
     "data": {
      "text/plain": [
       "(0, 7)"
      ]
     },
     "execution_count": 17,
     "metadata": {},
     "output_type": "execute_result"
    }
   ],
   "source": [
    "# confirm the transformation\n",
    "data[(data.money_raised == \"unknown\")].shape"
   ]
  },
  {
   "cell_type": "code",
   "execution_count": 18,
   "metadata": {},
   "outputs": [],
   "source": [
    "def digitize_money_raised(money):\n",
    "    match = re.search(r'\\$(\\d+\\.*\\d*)', money)\n",
    "    if match:\n",
    "        return float(match.group(1))\n",
    "    else:\n",
    "        return money\n",
    "    \n",
    "data[\"money_raised_float\"] = data.money_raised.apply(lambda money: digitize_money_raised(money))"
   ]
  },
  {
   "cell_type": "markdown",
   "metadata": {},
   "source": [
    "### Now we have clean data for the column \"money_raised\""
   ]
  },
  {
   "cell_type": "code",
   "execution_count": 19,
   "metadata": {},
   "outputs": [
    {
     "data": {
      "text/plain": [
       "(34, 8)"
      ]
     },
     "execution_count": 19,
     "metadata": {},
     "output_type": "execute_result"
    }
   ],
   "source": [
    "# check funding_round is NA\n",
    "data[(data.funding_round.isnull())].shape"
   ]
  },
  {
   "cell_type": "code",
   "execution_count": 20,
   "metadata": {
    "collapsed": true
   },
   "outputs": [],
   "source": [
    "data.to_csv(\"article_after_processing3.csv\", index = False)"
   ]
  }
 ],
 "metadata": {
  "kernelspec": {
   "display_name": "Python 3",
   "language": "python",
   "name": "python3"
  },
  "language_info": {
   "codemirror_mode": {
    "name": "ipython",
    "version": 3
   },
   "file_extension": ".py",
   "mimetype": "text/x-python",
   "name": "python",
   "nbconvert_exporter": "python",
   "pygments_lexer": "ipython3",
   "version": "3.6.0"
  }
 },
 "nbformat": 4,
 "nbformat_minor": 2
}
