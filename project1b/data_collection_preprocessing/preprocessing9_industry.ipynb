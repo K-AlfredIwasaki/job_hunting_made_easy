{
 "cells": [
  {
   "cell_type": "code",
   "execution_count": 1,
   "metadata": {
    "collapsed": true
   },
   "outputs": [],
   "source": [
    "# re-classify industries\n",
    "# create new features for industries using specialties"
   ]
  },
  {
   "cell_type": "code",
   "execution_count": 2,
   "metadata": {
    "collapsed": true
   },
   "outputs": [],
   "source": [
    "import re\n",
    "import pandas as pd\n",
    "data = pd.read_csv(\"article_after_processing8.csv\", encoding='iso-8859-1')"
   ]
  },
  {
   "cell_type": "code",
   "execution_count": 3,
   "metadata": {
    "scrolled": false
   },
   "outputs": [
    {
     "data": {
      "text/plain": [
       "array(['Financial Services', 'Information Technology and Services',\n",
       "       'Human Resources', 'Computer Software',\n",
       "       'Logistics and Supply Chain', 'Internet',\n",
       "       'Computer & Network Security', 'Food & Beverages',\n",
       "       'Marketing and Advertising', 'Medical Devices', 'E-Learning',\n",
       "       'Consumer Services', 'Sports', 'Consumer Electronics',\n",
       "       'Computer Hardware', 'Education Management', 'Apparel & Fashion',\n",
       "       'Entertainment', 'Consumer Goods', 'Biotechnology',\n",
       "       'Management Consulting', 'Real Estate', 'Fund-Raising',\n",
       "       'Commercial Real Estate', 'Food Production', 'Online Media',\n",
       "       'Mechanical or Industrial Engineering', 'Renewables & Environment',\n",
       "       'Farming', 'Electrical/Electronic Manufacturing',\n",
       "       'Leisure, Travel & Tourism', 'Sporting Goods', 'Retail',\n",
       "       'Semiconductors', 'Cosmetics', 'Staffing and Recruiting',\n",
       "       'Insurance', 'Telecommunications', 'Health, Wellness and Fitness',\n",
       "       'Textiles', 'Nanotechnology', 'Luxury Goods & Jewelry'], dtype=object)"
      ]
     },
     "execution_count": 3,
     "metadata": {},
     "output_type": "execute_result"
    }
   ],
   "source": [
    "data.Industry.unique()"
   ]
  },
  {
   "cell_type": "code",
   "execution_count": 4,
   "metadata": {
    "scrolled": true
   },
   "outputs": [
    {
     "data": {
      "text/plain": [
       "Industry\n",
       "Apparel & Fashion                        2\n",
       "Biotechnology                            3\n",
       "Commercial Real Estate                   1\n",
       "Computer & Network Security              4\n",
       "Computer Hardware                        2\n",
       "Computer Software                       48\n",
       "Consumer Electronics                     4\n",
       "Consumer Goods                           2\n",
       "Consumer Services                        2\n",
       "Cosmetics                                1\n",
       "E-Learning                               3\n",
       "Education Management                     1\n",
       "Electrical/Electronic Manufacturing      1\n",
       "Entertainment                            4\n",
       "Farming                                  1\n",
       "Financial Services                      13\n",
       "Food & Beverages                         2\n",
       "Food Production                          2\n",
       "Fund-Raising                             1\n",
       "Health, Wellness and Fitness             3\n",
       "Human Resources                          2\n",
       "Information Technology and Services     25\n",
       "Insurance                                1\n",
       "Internet                                67\n",
       "Leisure, Travel & Tourism                2\n",
       "Logistics and Supply Chain               5\n",
       "Luxury Goods & Jewelry                   1\n",
       "Management Consulting                    1\n",
       "Marketing and Advertising                6\n",
       "Mechanical or Industrial Engineering     1\n",
       "Medical Devices                          1\n",
       "Nanotechnology                           1\n",
       "Online Media                             1\n",
       "Real Estate                              4\n",
       "Renewables & Environment                 2\n",
       "Retail                                   2\n",
       "Semiconductors                           1\n",
       "Sporting Goods                           1\n",
       "Sports                                   2\n",
       "Staffing and Recruiting                  2\n",
       "Telecommunications                       3\n",
       "Textiles                                 1\n",
       "Name: title, dtype: int64"
      ]
     },
     "execution_count": 4,
     "metadata": {},
     "output_type": "execute_result"
    }
   ],
   "source": [
    "data.groupby(\"Industry\").title.count()"
   ]
  },
  {
   "cell_type": "code",
   "execution_count": 5,
   "metadata": {},
   "outputs": [],
   "source": [
    "def rewrite_industry(industry):\n",
    "    \n",
    "    if industry in ['Apparel & Fashion', \n",
    "                    'Consumer Goods',\n",
    "                    'Consumer Services',\n",
    "                    'Cosmetics',\n",
    "                    'Luxury Goods & Jewelry',\n",
    "                    'Retail',\n",
    "                    'Leisure, Travel & Tourism',\n",
    "                    'Sporting Goods',\n",
    "                    'Textiles']:\n",
    "        return 'Consumers Goods & Services'\n",
    "\n",
    "    elif industry in ['Computer Hardware', 'Computer & Network Security']:\n",
    "        return 'Computer & Network Security & Hardware'\n",
    "    \n",
    "    elif industry in ['E-Learning', 'Education Management']:\n",
    "        return 'Education'\n",
    "    \n",
    "    elif industry in ['Farming',\n",
    "                      'Food & Beverages',\n",
    "                      'Food Production',\n",
    "                      'Restaurants']:\n",
    "        return 'Food Business'\n",
    "    \n",
    "    elif industry in ['Insurance',\n",
    "                      'Fund-Raising',\n",
    "                      'Financial Services']:\n",
    "        return 'Financial Services'\n",
    "    \n",
    "    elif industry in ['Internet',\n",
    "                      'Online Media']:\n",
    "        return 'Internet'\n",
    "\n",
    "    elif industry in ['Commercial Real Estate', \n",
    "                      'Real Estate']:\n",
    "        return 'Real Estate'\n",
    "    \n",
    "    elif industry in ['Health, Wellness and Fitness', 'Medical Devices'\n",
    "                     ,'Sports']:\n",
    "        return 'Healthcare_health'\n",
    "\n",
    "    elif industry in ['Human Resources', \n",
    "                      'Staffing and Recruiting']:\n",
    "        return 'Human Resources'\n",
    "    \n",
    "    elif industry in ['Telecommunications',\n",
    "                      'Renewables & Environment',\n",
    "                      'Logistics and Supply Chain']:\n",
    "        return \"Infrastructure\"\n",
    "    \n",
    "    elif industry in ['Semiconductors', 'Nanotechnology', 'Biotechnology', \n",
    "                      'Management Consulting',\n",
    "                      'Electrical/Electronic Manufacturing',\n",
    "                     'Mechanical or Industrial Engineering']:\n",
    "        return 'Niche'\n",
    "        \n",
    "    else:\n",
    "        return industry\n",
    "    \n",
    "data[\"Industry_consolidated\"] = data.Industry.apply(\n",
    "    lambda industry: rewrite_industry(industry))"
   ]
  },
  {
   "cell_type": "code",
   "execution_count": 6,
   "metadata": {
    "scrolled": true
   },
   "outputs": [
    {
     "data": {
      "text/plain": [
       "Industry_consolidated\n",
       "Computer & Network Security & Hardware     6\n",
       "Computer Software                         48\n",
       "Consumer Electronics                       4\n",
       "Consumers Goods & Services                14\n",
       "Education                                  4\n",
       "Entertainment                              4\n",
       "Financial Services                        15\n",
       "Food Business                              5\n",
       "Healthcare_health                          6\n",
       "Human Resources                            4\n",
       "Information Technology and Services       25\n",
       "Infrastructure                            10\n",
       "Internet                                  68\n",
       "Marketing and Advertising                  6\n",
       "Niche                                      8\n",
       "Real Estate                                5\n",
       "Name: title, dtype: int64"
      ]
     },
     "execution_count": 6,
     "metadata": {},
     "output_type": "execute_result"
    }
   ],
   "source": [
    "data.groupby(\"Industry_consolidated\").title.count()"
   ]
  },
  {
   "cell_type": "code",
   "execution_count": 7,
   "metadata": {
    "collapsed": true
   },
   "outputs": [],
   "source": [
    "def check_keywords(keyword_list, row):\n",
    "    regex = re.compile(r'{}'.format(\"|\".join(keyword_list) ), flags = re.I)\n",
    "    if not isinstance(row[\"Specialties\"], float):\n",
    "#         print(\"print1\")\n",
    "        match = re.search(regex, str(row[\"Specialties\"]))\n",
    "        if match:\n",
    "            return 1\n",
    "        else:\n",
    "            match = re.search(regex, str(row[\"Description\"]))\n",
    "            if match:\n",
    "                return 1\n",
    "            else:\n",
    "                return 0\n",
    "    else:\n",
    "#         print(\"print2\")\n",
    "        match = re.search(regex, str(row[\"Description\"]))\n",
    "        if match:\n",
    "            return 1\n",
    "        else:\n",
    "            return 0\n"
   ]
  },
  {
   "cell_type": "code",
   "execution_count": 8,
   "metadata": {
    "collapsed": true
   },
   "outputs": [],
   "source": [
    "def create_columns(dct, dataframe):\n",
    "    for key, keywords in dct.items():\n",
    "        dataframe[\"spc_{}\".format(key)] = dataframe.apply(\n",
    "            lambda row: check_keywords(\n",
    "            keyword_list = keywords, row = row), axis = 1\n",
    "        )\n",
    "    return dataframe"
   ]
  },
  {
   "cell_type": "code",
   "execution_count": 9,
   "metadata": {
    "scrolled": false
   },
   "outputs": [],
   "source": [
    "key_words_dict = {\n",
    "    \"Food Business\": [\"restaurant\", \"farm\", \"greenhouse\", \"Gastronomie\"],\n",
    "    \"Education\": [\"Online Learning\", \"Education\", \"Tutor\"],\n",
    "    \"Financial Services\": [\"payment\", \"loan\", \"financ\", \"fundraising\", \n",
    "               \"investing\", \"lending\"],\n",
    "    \"Healthcare_health\": [\"healthcare\", \"medical\", \"genetic\", \"therapy\", \"disease\",\n",
    "                  \"fitness\", \"wellness\", \"welfare\",\"wearable\", \"gym\"],\n",
    "    \"Human Resources\": [\"recruit\", \"workforce\", \"Human Resource\"],\n",
    "    \"Logistics and Supply Chain\": [\"delivery\", \"drone\", \n",
    "                                   \"transportation\", \"supply chain\"],\n",
    "    \"Entertainment\": [\"entertainment\", \"game\"],\n",
    "    \"Computer & Network Security & Hardware\": [\"storage\",\"backup\", \"recovery\", \n",
    "                                               \"privacy\"],\n",
    "    \"Real_estate\": [\"Real Estate\"],\n",
    "    \"Marketing and Advertising\": [\"marketing\", \"advertising\", \"advertisement\"],\n",
    "    \n",
    "    \"commerce\": [\"eCommerce\", \"Commerce\", \"Retail\"],\n",
    "    \"mobile\" : [\"mobile\"],\n",
    "    \"app\": [\"mobile app\", \"app\\s\"],\n",
    "    \"analysis\": [\"analytics\", \"analysis\"],\n",
    "    \"developer\": [\"developer\"],\n",
    "    \"security\" : [\"fraud\", \"detection\", \"protection\"],\n",
    "    \"social\": [\"Social Media\"],\n",
    "    \"ds\": [\"artificial intelligence\", \"machine learning\", \n",
    "          \"deep learning\", \"big data\"],\n",
    "    \"travel\": [\"Travel\"],\n",
    "    \"booking_ticketing\": [\"booking\", \"ticket\"],\n",
    "    \"Apparel\": [\"fashion\", \"clothing\", \"shoes\", \"Sporting Goods\"],\n",
    "    \"cloud\": [\"cloud\"],\n",
    "    \"API\": [\"API\"],\n",
    "    \"device\": [\"device\"],\n",
    "    \"design\": [\"design\"],\n",
    "    \"enterprise\": [\"enterprise\", \"productivity\", \"collaboration\"],\n",
    "    \"robotics_manufacturing\": [\"Manufact\", \"robotics\", \"3d\"]\n",
    " }"
   ]
  },
  {
   "cell_type": "code",
   "execution_count": 10,
   "metadata": {
    "collapsed": true
   },
   "outputs": [],
   "source": [
    "data = create_columns(key_words_dict, data)"
   ]
  },
  {
   "cell_type": "code",
   "execution_count": 11,
   "metadata": {
    "scrolled": false
   },
   "outputs": [
    {
     "data": {
      "text/plain": [
       "spc_Food Business                              8\n",
       "spc_Education                                 10\n",
       "spc_Financial Services                        36\n",
       "spc_Healthcare_health                         24\n",
       "spc_Human Resources                           10\n",
       "spc_Logistics and Supply Chain                24\n",
       "spc_Entertainment                             12\n",
       "spc_Computer & Network Security & Hardware    10\n",
       "spc_Real_estate                                7\n",
       "spc_Marketing and Advertising                 34\n",
       "spc_commerce                                  40\n",
       "spc_mobile                                    63\n",
       "spc_app                                       33\n",
       "spc_analysis                                  51\n",
       "spc_developer                                 15\n",
       "spc_security                                  16\n",
       "spc_social                                    14\n",
       "spc_ds                                        39\n",
       "spc_travel                                     6\n",
       "spc_booking_ticketing                         11\n",
       "spc_Apparel                                    8\n",
       "spc_cloud                                     51\n",
       "spc_API                                       54\n",
       "spc_device                                    26\n",
       "spc_design                                    33\n",
       "spc_enterprise                                54\n",
       "spc_product                                   62\n",
       "spc_robotics_manufacturing                    10\n",
       "dtype: int64"
      ]
     },
     "execution_count": 11,
     "metadata": {},
     "output_type": "execute_result"
    }
   ],
   "source": [
    "data.loc[:,\"spc_Food Business\":\"spc_robotics_manufacturing\"].apply(\n",
    "    lambda row: sum(row), axis = 0)"
   ]
  },
  {
   "cell_type": "code",
   "execution_count": 12,
   "metadata": {
    "scrolled": true
   },
   "outputs": [],
   "source": [
    "data[\"spc_total\"] = data.loc[:,\"spc_Food Business\":\"spc_robotics_manufacturing\"].apply(\n",
    "    lambda row: sum(row), axis = 1)"
   ]
  },
  {
   "cell_type": "code",
   "execution_count": 13,
   "metadata": {
    "scrolled": false
   },
   "outputs": [
    {
     "data": {
      "text/html": [
       "<div>\n",
       "<table border=\"1\" class=\"dataframe\">\n",
       "  <thead>\n",
       "    <tr style=\"text-align: right;\">\n",
       "      <th></th>\n",
       "      <th>Company</th>\n",
       "      <th>Specialties</th>\n",
       "      <th>Description</th>\n",
       "    </tr>\n",
       "  </thead>\n",
       "  <tbody>\n",
       "    <tr>\n",
       "      <th>27</th>\n",
       "      <td>Magic Leap</td>\n",
       "      <td>NaN</td>\n",
       "      <td>You already own the worldâ??s most amazing com...</td>\n",
       "    </tr>\n",
       "    <tr>\n",
       "      <th>38</th>\n",
       "      <td>Spiceworks</td>\n",
       "      <td>IT, software, freeware, B2B, SMB, free busines...</td>\n",
       "      <td>We provide millions of IT pros with the tools,...</td>\n",
       "    </tr>\n",
       "    <tr>\n",
       "      <th>51</th>\n",
       "      <td>Snapchat</td>\n",
       "      <td>NaN</td>\n",
       "      <td>Experience a unique way to share life with fri...</td>\n",
       "    </tr>\n",
       "    <tr>\n",
       "      <th>95</th>\n",
       "      <td>Managed By Q</td>\n",
       "      <td>Office Cleaning, Office Maintenance, Office Su...</td>\n",
       "      <td>Managed by Q is the platform for office manage...</td>\n",
       "    </tr>\n",
       "    <tr>\n",
       "      <th>117</th>\n",
       "      <td>Finanzcheck</td>\n",
       "      <td>Kreditvergleich, Finanzdienstleistung</td>\n",
       "      <td>FINANZCHECK.de ist das fÃ¼hrende, unabhÃ¤ngige...</td>\n",
       "    </tr>\n",
       "    <tr>\n",
       "      <th>159</th>\n",
       "      <td>Giphy</td>\n",
       "      <td>NaN</td>\n",
       "      <td>Animated GIFs have existed for decades, but th...</td>\n",
       "    </tr>\n",
       "  </tbody>\n",
       "</table>\n",
       "</div>"
      ],
      "text/plain": [
       "          Company                                        Specialties  \\\n",
       "27     Magic Leap                                                NaN   \n",
       "38     Spiceworks  IT, software, freeware, B2B, SMB, free busines...   \n",
       "51       Snapchat                                                NaN   \n",
       "95   Managed By Q  Office Cleaning, Office Maintenance, Office Su...   \n",
       "117   Finanzcheck              Kreditvergleich, Finanzdienstleistung   \n",
       "159         Giphy                                                NaN   \n",
       "\n",
       "                                           Description  \n",
       "27   You already own the worldâ??s most amazing com...  \n",
       "38   We provide millions of IT pros with the tools,...  \n",
       "51   Experience a unique way to share life with fri...  \n",
       "95   Managed by Q is the platform for office manage...  \n",
       "117  FINANZCHECK.de ist das fÃ¼hrende, unabhÃ¤ngige...  \n",
       "159  Animated GIFs have existed for decades, but th...  "
      ]
     },
     "execution_count": 13,
     "metadata": {},
     "output_type": "execute_result"
    }
   ],
   "source": [
    "mask = (data[\"spc_total\"] == 0) \n",
    "data.loc[mask][[\"Company\", \"Specialties\", \"Description\"]]"
   ]
  },
  {
   "cell_type": "code",
   "execution_count": 14,
   "metadata": {
    "scrolled": true
   },
   "outputs": [],
   "source": [
    "data.to_csv(\"article_after_processing9.csv\", index = False)"
   ]
  }
 ],
 "metadata": {
  "kernelspec": {
   "display_name": "Python 3",
   "language": "python",
   "name": "python3"
  },
  "language_info": {
   "codemirror_mode": {
    "name": "ipython",
    "version": 3
   },
   "file_extension": ".py",
   "mimetype": "text/x-python",
   "name": "python",
   "nbconvert_exporter": "python",
   "pygments_lexer": "ipython3",
   "version": "3.6.0"
  }
 },
 "nbformat": 4,
 "nbformat_minor": 2
}
