{
 "cells": [
  {
   "cell_type": "code",
   "execution_count": 1,
   "metadata": {
    "collapsed": true
   },
   "outputs": [],
   "source": [
    "# step.1 remove duplicate rows in two files\n",
    "# step.2 merge the two files"
   ]
  },
  {
   "cell_type": "code",
   "execution_count": 2,
   "metadata": {
    "collapsed": true
   },
   "outputs": [],
   "source": [
    "import csv\n",
    "import pandas as pd\n",
    "techcrunch = pd.read_csv(\"article_after_processing3.csv\", encoding='iso-8859-1')\n",
    "linkedin = pd.read_csv(\"linkedin_link_list.csv\", encoding='iso-8859-1',\n",
    "                      names = [\"Company\", \"linkedin_link\"])"
   ]
  },
  {
   "cell_type": "code",
   "execution_count": 3,
   "metadata": {
    "scrolled": false
   },
   "outputs": [
    {
     "data": {
      "text/html": [
       "<div>\n",
       "<table border=\"1\" class=\"dataframe\">\n",
       "  <thead>\n",
       "    <tr style=\"text-align: right;\">\n",
       "      <th></th>\n",
       "      <th>title</th>\n",
       "      <th>link</th>\n",
       "      <th>excerpt</th>\n",
       "      <th>published_at</th>\n",
       "      <th>funding_round</th>\n",
       "      <th>money_raised</th>\n",
       "      <th>Company</th>\n",
       "      <th>money_raised_float</th>\n",
       "    </tr>\n",
       "  </thead>\n",
       "  <tbody>\n",
       "    <tr>\n",
       "      <th>0</th>\n",
       "      <td>Indian online lending platform Capital Float r...</td>\n",
       "      <td>https://techcrunch.com/2017/08/21/indian-onlin...</td>\n",
       "      <td>Capital Float, which claims to be the largest ...</td>\n",
       "      <td>2017/08/21</td>\n",
       "      <td>Series C</td>\n",
       "      <td>$45 M</td>\n",
       "      <td>Capital Float</td>\n",
       "      <td>45.0</td>\n",
       "    </tr>\n",
       "    <tr>\n",
       "      <th>1</th>\n",
       "      <td>Carwow, a UK startup that helps you buy a new ...</td>\n",
       "      <td>https://techcrunch.com/2017/07/30/carwow-serie...</td>\n",
       "      <td>Carwow, a platform that helps you buy a new ca...</td>\n",
       "      <td>2017/07/30</td>\n",
       "      <td>Series C</td>\n",
       "      <td>$39 M</td>\n",
       "      <td>Carwow</td>\n",
       "      <td>39.0</td>\n",
       "    </tr>\n",
       "    <tr>\n",
       "      <th>2</th>\n",
       "      <td>Stash raises $40 million Series C to make inve...</td>\n",
       "      <td>https://techcrunch.com/2017/07/13/stash-raises...</td>\n",
       "      <td>Micro-investing app Stash has raised an additi...</td>\n",
       "      <td>2017/07/13</td>\n",
       "      <td>Series C</td>\n",
       "      <td>$40 M</td>\n",
       "      <td>Stash</td>\n",
       "      <td>40.0</td>\n",
       "    </tr>\n",
       "  </tbody>\n",
       "</table>\n",
       "</div>"
      ],
      "text/plain": [
       "                                               title  \\\n",
       "0  Indian online lending platform Capital Float r...   \n",
       "1  Carwow, a UK startup that helps you buy a new ...   \n",
       "2  Stash raises $40 million Series C to make inve...   \n",
       "\n",
       "                                                link  \\\n",
       "0  https://techcrunch.com/2017/08/21/indian-onlin...   \n",
       "1  https://techcrunch.com/2017/07/30/carwow-serie...   \n",
       "2  https://techcrunch.com/2017/07/13/stash-raises...   \n",
       "\n",
       "                                             excerpt published_at  \\\n",
       "0  Capital Float, which claims to be the largest ...   2017/08/21   \n",
       "1  Carwow, a platform that helps you buy a new ca...   2017/07/30   \n",
       "2  Micro-investing app Stash has raised an additi...   2017/07/13   \n",
       "\n",
       "  funding_round money_raised        Company  money_raised_float  \n",
       "0      Series C        $45 M  Capital Float                45.0  \n",
       "1      Series C        $39 M         Carwow                39.0  \n",
       "2      Series C        $40 M          Stash                40.0  "
      ]
     },
     "execution_count": 3,
     "metadata": {},
     "output_type": "execute_result"
    }
   ],
   "source": [
    "techcrunch.head(3)"
   ]
  },
  {
   "cell_type": "code",
   "execution_count": 4,
   "metadata": {},
   "outputs": [
    {
     "data": {
      "text/html": [
       "<div>\n",
       "<table border=\"1\" class=\"dataframe\">\n",
       "  <thead>\n",
       "    <tr style=\"text-align: right;\">\n",
       "      <th></th>\n",
       "      <th>Company</th>\n",
       "      <th>linkedin_link</th>\n",
       "    </tr>\n",
       "  </thead>\n",
       "  <tbody>\n",
       "    <tr>\n",
       "      <th>0</th>\n",
       "      <td>Capital Float</td>\n",
       "      <td>https://www.linkedin.com/company/capital-float</td>\n",
       "    </tr>\n",
       "    <tr>\n",
       "      <th>1</th>\n",
       "      <td>Carwow</td>\n",
       "      <td>https://www.linkedin.com/company/carwow</td>\n",
       "    </tr>\n",
       "    <tr>\n",
       "      <th>2</th>\n",
       "      <td>Stash</td>\n",
       "      <td>https://www.linkedin.com/company/stashinvest</td>\n",
       "    </tr>\n",
       "  </tbody>\n",
       "</table>\n",
       "</div>"
      ],
      "text/plain": [
       "         Company                                   linkedin_link\n",
       "0  Capital Float  https://www.linkedin.com/company/capital-float\n",
       "1         Carwow         https://www.linkedin.com/company/carwow\n",
       "2          Stash    https://www.linkedin.com/company/stashinvest"
      ]
     },
     "execution_count": 4,
     "metadata": {},
     "output_type": "execute_result"
    }
   ],
   "source": [
    "linkedin.head(3)"
   ]
  },
  {
   "cell_type": "code",
   "execution_count": 5,
   "metadata": {
    "scrolled": true
   },
   "outputs": [
    {
     "data": {
      "text/plain": [
       "(353, 8)"
      ]
     },
     "execution_count": 5,
     "metadata": {},
     "output_type": "execute_result"
    }
   ],
   "source": [
    "techcrunch.shape"
   ]
  },
  {
   "cell_type": "code",
   "execution_count": 6,
   "metadata": {
    "collapsed": true
   },
   "outputs": [],
   "source": [
    "techcrunch.drop_duplicates(subset = [\"title\"], inplace = True)"
   ]
  },
  {
   "cell_type": "code",
   "execution_count": 7,
   "metadata": {},
   "outputs": [
    {
     "data": {
      "text/plain": [
       "(292, 8)"
      ]
     },
     "execution_count": 7,
     "metadata": {},
     "output_type": "execute_result"
    }
   ],
   "source": [
    "techcrunch.shape"
   ]
  },
  {
   "cell_type": "code",
   "execution_count": 8,
   "metadata": {},
   "outputs": [
    {
     "data": {
      "text/plain": [
       "(591, 2)"
      ]
     },
     "execution_count": 8,
     "metadata": {},
     "output_type": "execute_result"
    }
   ],
   "source": [
    "linkedin.shape"
   ]
  },
  {
   "cell_type": "code",
   "execution_count": 9,
   "metadata": {
    "collapsed": true
   },
   "outputs": [],
   "source": [
    "linkedin.drop_duplicates(inplace = True)"
   ]
  },
  {
   "cell_type": "code",
   "execution_count": 10,
   "metadata": {
    "scrolled": true
   },
   "outputs": [
    {
     "data": {
      "text/plain": [
       "(460, 2)"
      ]
     },
     "execution_count": 10,
     "metadata": {},
     "output_type": "execute_result"
    }
   ],
   "source": [
    "linkedin.shape"
   ]
  },
  {
   "cell_type": "code",
   "execution_count": 11,
   "metadata": {
    "collapsed": true
   },
   "outputs": [],
   "source": [
    "# use left join to keep techcrunch dataframe\n",
    "merged = pd.merge(techcrunch, linkedin, on = \"Company\", how = \"left\")"
   ]
  },
  {
   "cell_type": "code",
   "execution_count": 12,
   "metadata": {
    "scrolled": false
   },
   "outputs": [
    {
     "data": {
      "text/plain": [
       "(300, 9)"
      ]
     },
     "execution_count": 12,
     "metadata": {},
     "output_type": "execute_result"
    }
   ],
   "source": [
    "merged.shape"
   ]
  },
  {
   "cell_type": "code",
   "execution_count": 13,
   "metadata": {
    "collapsed": true
   },
   "outputs": [],
   "source": [
    "merged.drop_duplicates(subset = [\"title\"], inplace = True)"
   ]
  },
  {
   "cell_type": "code",
   "execution_count": 14,
   "metadata": {},
   "outputs": [
    {
     "data": {
      "text/plain": [
       "(292, 9)"
      ]
     },
     "execution_count": 14,
     "metadata": {},
     "output_type": "execute_result"
    }
   ],
   "source": [
    "merged.shape"
   ]
  },
  {
   "cell_type": "code",
   "execution_count": 15,
   "metadata": {
    "collapsed": true
   },
   "outputs": [],
   "source": [
    "merged.to_csv(\"article_after_processing5.csv\", index = False)"
   ]
  }
 ],
 "metadata": {
  "kernelspec": {
   "display_name": "Python 3",
   "language": "python",
   "name": "python3"
  },
  "language_info": {
   "codemirror_mode": {
    "name": "ipython",
    "version": 3
   },
   "file_extension": ".py",
   "mimetype": "text/x-python",
   "name": "python",
   "nbconvert_exporter": "python",
   "pygments_lexer": "ipython3",
   "version": "3.6.0"
  }
 },
 "nbformat": 4,
 "nbformat_minor": 2
}
