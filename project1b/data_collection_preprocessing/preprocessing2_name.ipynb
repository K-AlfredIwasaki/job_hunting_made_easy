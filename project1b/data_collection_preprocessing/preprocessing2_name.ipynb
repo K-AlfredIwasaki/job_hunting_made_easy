{
 "cells": [
  {
   "cell_type": "markdown",
   "metadata": {},
   "source": [
    "## Extract company name"
   ]
  },
  {
   "cell_type": "code",
   "execution_count": 1,
   "metadata": {
    "collapsed": true
   },
   "outputs": [],
   "source": [
    "import pandas as pd\n",
    "import re\n",
    "data = pd.read_csv(\"article_after_processing1.csv\", encoding='iso-8859-1')"
   ]
  },
  {
   "cell_type": "code",
   "execution_count": 2,
   "metadata": {
    "scrolled": true
   },
   "outputs": [
    {
     "data": {
      "text/plain": [
       "(646, 6)"
      ]
     },
     "execution_count": 2,
     "metadata": {},
     "output_type": "execute_result"
    }
   ],
   "source": [
    "data.shape"
   ]
  },
  {
   "cell_type": "code",
   "execution_count": 3,
   "metadata": {
    "collapsed": true,
    "scrolled": true
   },
   "outputs": [],
   "source": [
    "# get a company name\n",
    "def get_company(item):\n",
    "    regex = re.compile(r\"(\\w*\\s*\\w+.{0,1})(,.+,)*\\s(raise|land|grab|step|receive|get|collect|pull|close|secure|take|tap|score|snare|snag|grab|nab|win)\", re.IGNORECASE)\n",
    "    matched = re.search(regex, item)\n",
    "    if matched:\n",
    "        return matched.group(1)\n",
    "    else:\n",
    "        regex2 = re.compile(r\"(marketplace|firm|startup|company|competitor|platform|network|service|leader|house|developer|retailer)\\s(\\w+\\s*\\w*)\", re.IGNORECASE)\n",
    "        matched2 = re.search(regex2, item)\n",
    "        if matched2:\n",
    "            return matched2.group(2)\n",
    "        else:\n",
    "            regex3 = re.compile(r\"^(\\w+\\s\\w+|\\w+)\\s\\w+s\\s\", re.IGNORECASE)\n",
    "            matched3 = re.search(regex3, item)\n",
    "            if matched3:\n",
    "                return matched3.group(1)\n",
    "            else:\n",
    "                regex4 = re.compile(r\"(\\w+|\\w+\\s\\w+),\\s\", re.IGNORECASE)\n",
    "                matched4 = re.search(regex4, item)\n",
    "                if matched4:\n",
    "                    return matched4.group(1)\n",
    "                else:\n",
    "                    return \"NA\"\n",
    "\n",
    "data[\"Temp_company\"] = data.title.apply(lambda item: get_company(item))"
   ]
  },
  {
   "cell_type": "code",
   "execution_count": 4,
   "metadata": {
    "collapsed": true
   },
   "outputs": [],
   "source": [
    "# get doc.com company name (overwrite)\n",
    "def get_dot_com(item):\n",
    "    regex = re.compile(r'\\w+\\.com')\n",
    "    matched = re.search(regex, item)\n",
    "    if matched:\n",
    "        return matched.group(0)\n",
    "    else:\n",
    "        pass\n",
    "data[\"Dot.company\"] = data.title.apply(lambda item: get_dot_com(item))"
   ]
  },
  {
   "cell_type": "code",
   "execution_count": 5,
   "metadata": {
    "collapsed": true
   },
   "outputs": [],
   "source": [
    "# combine \"Company\" column and \"Dot.company\" column\n",
    "data[\"Company\"] = data[\"Dot.company\"].fillna(data[\"Temp_company\"])"
   ]
  },
  {
   "cell_type": "markdown",
   "metadata": {},
   "source": [
    "## Clean up \"Company\" column"
   ]
  },
  {
   "cell_type": "code",
   "execution_count": 6,
   "metadata": {
    "collapsed": true
   },
   "outputs": [],
   "source": [
    "# step.0 remove \" s\" in \"s Company Name\"\n",
    "# step.2 validate companies with very short name"
   ]
  },
  {
   "cell_type": "code",
   "execution_count": 7,
   "metadata": {
    "scrolled": true
   },
   "outputs": [
    {
     "data": {
      "text/plain": [
       "621"
      ]
     },
     "execution_count": 7,
     "metadata": {},
     "output_type": "execute_result"
    }
   ],
   "source": [
    "sum(data.Company != \"NA\")"
   ]
  },
  {
   "cell_type": "code",
   "execution_count": 8,
   "metadata": {
    "collapsed": true,
    "scrolled": false
   },
   "outputs": [],
   "source": [
    "# remove Company != \"NA\"\n",
    "data = data[data.Company != \"NA\"]"
   ]
  },
  {
   "cell_type": "code",
   "execution_count": 9,
   "metadata": {
    "collapsed": true
   },
   "outputs": [],
   "source": [
    "# drop the columns\n",
    "data.drop(['Temp_company', 'Dot.company'], axis = 1, inplace = True)"
   ]
  },
  {
   "cell_type": "code",
   "execution_count": 10,
   "metadata": {
    "collapsed": true,
    "scrolled": true
   },
   "outputs": [],
   "source": [
    "# remove some words from company name\n",
    "regex = re.compile(r\"\\s*(marketplace|firm|startup|company|service|maker|network|leader|solution|competitor|platform|developer|retailer)\\s*\", re.IGNORECASE)\n",
    "data[\"Company\"] = data.Company.apply(lambda item: re.sub(regex, '',item))"
   ]
  },
  {
   "cell_type": "code",
   "execution_count": 11,
   "metadata": {
    "collapsed": true
   },
   "outputs": [],
   "source": [
    "# remove \" s\" in \"s Company Name\"\n",
    "data.Company = data.Company.apply(lambda company: re.sub(r'^s\\s|^\\s', '',company))"
   ]
  },
  {
   "cell_type": "code",
   "execution_count": 12,
   "metadata": {},
   "outputs": [
    {
     "data": {
      "text/plain": [
       "(17, 7)"
      ]
     },
     "execution_count": 12,
     "metadata": {},
     "output_type": "execute_result"
    }
   ],
   "source": [
    "# validate companies with very short name\n",
    "mask = data.Company.apply(lambda company: True if len(company) < 3 else False)\n",
    "data.loc[mask].shape"
   ]
  },
  {
   "cell_type": "code",
   "execution_count": 13,
   "metadata": {
    "scrolled": true
   },
   "outputs": [
    {
     "data": {
      "text/html": [
       "<div>\n",
       "<table border=\"1\" class=\"dataframe\">\n",
       "  <thead>\n",
       "    <tr style=\"text-align: right;\">\n",
       "      <th></th>\n",
       "      <th>title</th>\n",
       "      <th>link</th>\n",
       "      <th>excerpt</th>\n",
       "      <th>published_at</th>\n",
       "      <th>funding_round</th>\n",
       "      <th>money_raised</th>\n",
       "      <th>Company</th>\n",
       "    </tr>\n",
       "  </thead>\n",
       "  <tbody>\n",
       "    <tr>\n",
       "      <th>83</th>\n",
       "      <td>Harry?s Raises $75.6 Million In Series C, Valu...</td>\n",
       "      <td>https://techcrunch.com/2015/07/07/harrys-raise...</td>\n",
       "      <td>Harry's, the direct-to-consumer mens' razor co...</td>\n",
       "      <td>2015/07/07</td>\n",
       "      <td>Series C</td>\n",
       "      <td>$75.6 M</td>\n",
       "      <td>s</td>\n",
       "    </tr>\n",
       "    <tr>\n",
       "      <th>107</th>\n",
       "      <td>GE spin-out SmartAssist.io raises $5M Series A...</td>\n",
       "      <td>https://techcrunch.com/2017/08/03/ge-spin-out-...</td>\n",
       "      <td>Last November, GE acquired the AI-centric star...</td>\n",
       "      <td>2017/08/03</td>\n",
       "      <td>Series A</td>\n",
       "      <td>$5 M</td>\n",
       "      <td>io</td>\n",
       "    </tr>\n",
       "    <tr>\n",
       "      <th>119</th>\n",
       "      <td>Care/of raises $12 million in Series A for its...</td>\n",
       "      <td>https://techcrunch.com/2017/07/12/careof-raise...</td>\n",
       "      <td>Care/of, a year-old, New York-based company th...</td>\n",
       "      <td>2017/07/12</td>\n",
       "      <td>Series A</td>\n",
       "      <td>$12 M</td>\n",
       "      <td>of</td>\n",
       "    </tr>\n",
       "    <tr>\n",
       "      <th>191</th>\n",
       "      <td>Don?t Launch A Company, Launch A Fund (Or The ...</td>\n",
       "      <td>https://techcrunch.com/2011/11/04/dont-launch-...</td>\n",
       "      <td>Editor?s note: This guest post is authored by ...</td>\n",
       "      <td>2011/11/04</td>\n",
       "      <td>Series A</td>\n",
       "      <td>unknown</td>\n",
       "      <td>A</td>\n",
       "    </tr>\n",
       "    <tr>\n",
       "      <th>276</th>\n",
       "      <td>Callstats.io raises $3M Series A round for its...</td>\n",
       "      <td>https://techcrunch.com/2016/09/06/callstats-io...</td>\n",
       "      <td>WebRTC, a relatively new web standard that all...</td>\n",
       "      <td>2016/09/06</td>\n",
       "      <td>Series A</td>\n",
       "      <td>$3 M</td>\n",
       "      <td>io</td>\n",
       "    </tr>\n",
       "    <tr>\n",
       "      <th>290</th>\n",
       "      <td>Frame.io raises a $10M Series A with Jared Let...</td>\n",
       "      <td>https://techcrunch.com/2016/09/14/frame-io-rai...</td>\n",
       "      <td>Cloud-based collaboration tool Frame.io has ra...</td>\n",
       "      <td>2016/09/14</td>\n",
       "      <td>Series A</td>\n",
       "      <td>$10 M</td>\n",
       "      <td>io</td>\n",
       "    </tr>\n",
       "    <tr>\n",
       "      <th>307</th>\n",
       "      <td>Panoply.io raises $7M Series A for its data an...</td>\n",
       "      <td>https://techcrunch.com/2016/08/03/panoply-io-r...</td>\n",
       "      <td>Panoply.io, a startup that wants to make setti...</td>\n",
       "      <td>2016/08/03</td>\n",
       "      <td>Series A</td>\n",
       "      <td>$7 M</td>\n",
       "      <td>io</td>\n",
       "    </tr>\n",
       "    <tr>\n",
       "      <th>359</th>\n",
       "      <td>Iron.io Raises $8M Series A Round For Its Ente...</td>\n",
       "      <td>https://techcrunch.com/2015/09/16/iron-io-rais...</td>\n",
       "      <td>Iron.io today announced that it has raised a $...</td>\n",
       "      <td>2015/09/16</td>\n",
       "      <td>Series A</td>\n",
       "      <td>$8 M</td>\n",
       "      <td>io</td>\n",
       "    </tr>\n",
       "    <tr>\n",
       "      <th>392</th>\n",
       "      <td>Harryâ??s Raises $75.6 Million In Series C, Va...</td>\n",
       "      <td>https://techcrunch.com/2015/07/07/harrys-raise...</td>\n",
       "      <td>Harry's, the direct-to-consumer mens' razor co...</td>\n",
       "      <td>2015/07/07</td>\n",
       "      <td>Series C</td>\n",
       "      <td>$75.6 M</td>\n",
       "      <td>s</td>\n",
       "    </tr>\n",
       "    <tr>\n",
       "      <th>437</th>\n",
       "      <td>Donâ??t Launch A Company, Launch A Fund (Or Th...</td>\n",
       "      <td>https://techcrunch.com/2011/11/04/dont-launch-...</td>\n",
       "      <td>Editorâ??s note: This guest post is authored b...</td>\n",
       "      <td>2011/11/04</td>\n",
       "      <td>Series A</td>\n",
       "      <td>unknown</td>\n",
       "      <td>A</td>\n",
       "    </tr>\n",
       "    <tr>\n",
       "      <th>474</th>\n",
       "      <td>Frame.io raises a $10M Series A with Jared Let...</td>\n",
       "      <td>https://techcrunch.com/2016/09/14/frame-io-rai...</td>\n",
       "      <td>Cloud-based collaboration tool Frame.io has ra...</td>\n",
       "      <td>2016/09/14</td>\n",
       "      <td>Series A</td>\n",
       "      <td>$10 M</td>\n",
       "      <td>io</td>\n",
       "    </tr>\n",
       "    <tr>\n",
       "      <th>482</th>\n",
       "      <td>French online restaurant FoodChÃ©ri raises â?¬...</td>\n",
       "      <td>https://techcrunch.com/2016/09/19/french-onlin...</td>\n",
       "      <td>French food delivery startup FoodChÃ©ri, which...</td>\n",
       "      <td>2016/09/19</td>\n",
       "      <td>Series A</td>\n",
       "      <td>¬6 M</td>\n",
       "      <td>ri</td>\n",
       "    </tr>\n",
       "    <tr>\n",
       "      <th>483</th>\n",
       "      <td>Panoply.io raises $7M Series A for its data an...</td>\n",
       "      <td>https://techcrunch.com/2016/08/03/panoply-io-r...</td>\n",
       "      <td>Panoply.io, a startup that wants to make setti...</td>\n",
       "      <td>2016/08/03</td>\n",
       "      <td>Series A</td>\n",
       "      <td>$7 M</td>\n",
       "      <td>io</td>\n",
       "    </tr>\n",
       "    <tr>\n",
       "      <th>510</th>\n",
       "      <td>Virtual nurse app Sense.ly raises $8 million f...</td>\n",
       "      <td>https://techcrunch.com/2017/02/14/virtual-nurs...</td>\n",
       "      <td>San Francisco startup Sense.ly has raised $8 m...</td>\n",
       "      <td>2017/02/14</td>\n",
       "      <td>Series B</td>\n",
       "      <td>$8 M</td>\n",
       "      <td>ly</td>\n",
       "    </tr>\n",
       "    <tr>\n",
       "      <th>529</th>\n",
       "      <td>Price f(x) raises â?¬4M Series A for pricing o...</td>\n",
       "      <td>https://techcrunch.com/2016/12/20/price-fx/</td>\n",
       "      <td>Price f(x), a pricing optimization SaaS, has r...</td>\n",
       "      <td>2016/12/20</td>\n",
       "      <td>Series A</td>\n",
       "      <td>¬4 M</td>\n",
       "      <td>x)</td>\n",
       "    </tr>\n",
       "    <tr>\n",
       "      <th>559</th>\n",
       "      <td>Upload VR startup raised $4.5 million Series A...</td>\n",
       "      <td>https://techcrunch.com/2017/05/16/upload-vr-st...</td>\n",
       "      <td>Upload, which shiftedÂ the \"UploadVR\" brandÂ t...</td>\n",
       "      <td>2017/05/16</td>\n",
       "      <td>Series A</td>\n",
       "      <td>$4.5 M</td>\n",
       "      <td>VR</td>\n",
       "    </tr>\n",
       "    <tr>\n",
       "      <th>592</th>\n",
       "      <td>Import.io Raises $13 Million Series A For Its ...</td>\n",
       "      <td>https://techcrunch.com/2016/01/12/import-io-ra...</td>\n",
       "      <td>Weâ??ve been tracking Import.io since it launc...</td>\n",
       "      <td>2016/01/12</td>\n",
       "      <td>Series A</td>\n",
       "      <td>$13 M</td>\n",
       "      <td>io</td>\n",
       "    </tr>\n",
       "  </tbody>\n",
       "</table>\n",
       "</div>"
      ],
      "text/plain": [
       "                                                 title  \\\n",
       "83   Harry?s Raises $75.6 Million In Series C, Valu...   \n",
       "107  GE spin-out SmartAssist.io raises $5M Series A...   \n",
       "119  Care/of raises $12 million in Series A for its...   \n",
       "191  Don?t Launch A Company, Launch A Fund (Or The ...   \n",
       "276  Callstats.io raises $3M Series A round for its...   \n",
       "290  Frame.io raises a $10M Series A with Jared Let...   \n",
       "307  Panoply.io raises $7M Series A for its data an...   \n",
       "359  Iron.io Raises $8M Series A Round For Its Ente...   \n",
       "392  Harryâ??s Raises $75.6 Million In Series C, Va...   \n",
       "437  Donâ??t Launch A Company, Launch A Fund (Or Th...   \n",
       "474  Frame.io raises a $10M Series A with Jared Let...   \n",
       "482  French online restaurant FoodChÃ©ri raises â?¬...   \n",
       "483  Panoply.io raises $7M Series A for its data an...   \n",
       "510  Virtual nurse app Sense.ly raises $8 million f...   \n",
       "529  Price f(x) raises â?¬4M Series A for pricing o...   \n",
       "559  Upload VR startup raised $4.5 million Series A...   \n",
       "592  Import.io Raises $13 Million Series A For Its ...   \n",
       "\n",
       "                                                  link  \\\n",
       "83   https://techcrunch.com/2015/07/07/harrys-raise...   \n",
       "107  https://techcrunch.com/2017/08/03/ge-spin-out-...   \n",
       "119  https://techcrunch.com/2017/07/12/careof-raise...   \n",
       "191  https://techcrunch.com/2011/11/04/dont-launch-...   \n",
       "276  https://techcrunch.com/2016/09/06/callstats-io...   \n",
       "290  https://techcrunch.com/2016/09/14/frame-io-rai...   \n",
       "307  https://techcrunch.com/2016/08/03/panoply-io-r...   \n",
       "359  https://techcrunch.com/2015/09/16/iron-io-rais...   \n",
       "392  https://techcrunch.com/2015/07/07/harrys-raise...   \n",
       "437  https://techcrunch.com/2011/11/04/dont-launch-...   \n",
       "474  https://techcrunch.com/2016/09/14/frame-io-rai...   \n",
       "482  https://techcrunch.com/2016/09/19/french-onlin...   \n",
       "483  https://techcrunch.com/2016/08/03/panoply-io-r...   \n",
       "510  https://techcrunch.com/2017/02/14/virtual-nurs...   \n",
       "529        https://techcrunch.com/2016/12/20/price-fx/   \n",
       "559  https://techcrunch.com/2017/05/16/upload-vr-st...   \n",
       "592  https://techcrunch.com/2016/01/12/import-io-ra...   \n",
       "\n",
       "                                               excerpt published_at  \\\n",
       "83   Harry's, the direct-to-consumer mens' razor co...   2015/07/07   \n",
       "107  Last November, GE acquired the AI-centric star...   2017/08/03   \n",
       "119  Care/of, a year-old, New York-based company th...   2017/07/12   \n",
       "191  Editor?s note: This guest post is authored by ...   2011/11/04   \n",
       "276  WebRTC, a relatively new web standard that all...   2016/09/06   \n",
       "290  Cloud-based collaboration tool Frame.io has ra...   2016/09/14   \n",
       "307  Panoply.io, a startup that wants to make setti...   2016/08/03   \n",
       "359  Iron.io today announced that it has raised a $...   2015/09/16   \n",
       "392  Harry's, the direct-to-consumer mens' razor co...   2015/07/07   \n",
       "437  Editorâ??s note: This guest post is authored b...   2011/11/04   \n",
       "474  Cloud-based collaboration tool Frame.io has ra...   2016/09/14   \n",
       "482  French food delivery startup FoodChÃ©ri, which...   2016/09/19   \n",
       "483  Panoply.io, a startup that wants to make setti...   2016/08/03   \n",
       "510  San Francisco startup Sense.ly has raised $8 m...   2017/02/14   \n",
       "529  Price f(x), a pricing optimization SaaS, has r...   2016/12/20   \n",
       "559  Upload, which shiftedÂ the \"UploadVR\" brandÂ t...   2017/05/16   \n",
       "592  Weâ??ve been tracking Import.io since it launc...   2016/01/12   \n",
       "\n",
       "    funding_round money_raised Company  \n",
       "83       Series C      $75.6 M       s  \n",
       "107      Series A         $5 M      io  \n",
       "119      Series A        $12 M      of  \n",
       "191      Series A      unknown       A  \n",
       "276      Series A         $3 M      io  \n",
       "290      Series A        $10 M      io  \n",
       "307      Series A         $7 M      io  \n",
       "359      Series A         $8 M      io  \n",
       "392      Series C      $75.6 M       s  \n",
       "437      Series A      unknown       A  \n",
       "474      Series A        $10 M      io  \n",
       "482      Series A         ¬6 M      ri  \n",
       "483      Series A         $7 M      io  \n",
       "510      Series B         $8 M      ly  \n",
       "529      Series A         ¬4 M      x)  \n",
       "559      Series A       $4.5 M      VR  \n",
       "592      Series A        $13 M      io  "
      ]
     },
     "execution_count": 13,
     "metadata": {},
     "output_type": "execute_result"
    }
   ],
   "source": [
    "data.loc[mask]"
   ]
  },
  {
   "cell_type": "code",
   "execution_count": 14,
   "metadata": {
    "collapsed": true
   },
   "outputs": [],
   "source": [
    "def get_company_name_for_io(row):\n",
    "    if len(row['Company']) < 3:\n",
    "        search = re.search(r'\\w+\\.io', row['title'])\n",
    "        if search:\n",
    "            return search.group(0)\n",
    "        else:\n",
    "            return row['Company']    \n",
    "    else:\n",
    "        return row['Company']\n",
    "    \n",
    "data[\"Company\"] = data.apply(lambda row: get_company_name_for_io(row), axis = 1)"
   ]
  },
  {
   "cell_type": "code",
   "execution_count": 15,
   "metadata": {
    "collapsed": true
   },
   "outputs": [],
   "source": [
    "data = data.reset_index(drop=True)"
   ]
  },
  {
   "cell_type": "code",
   "execution_count": 16,
   "metadata": {},
   "outputs": [
    {
     "data": {
      "text/plain": [
       "(9, 7)"
      ]
     },
     "execution_count": 16,
     "metadata": {},
     "output_type": "execute_result"
    }
   ],
   "source": [
    "mask = data.Company.apply(lambda company: True if len(company) < 3 else False)\n",
    "data.loc[mask].shape"
   ]
  },
  {
   "cell_type": "code",
   "execution_count": 17,
   "metadata": {
    "scrolled": false
   },
   "outputs": [
    {
     "data": {
      "text/html": [
       "<div>\n",
       "<table border=\"1\" class=\"dataframe\">\n",
       "  <thead>\n",
       "    <tr style=\"text-align: right;\">\n",
       "      <th></th>\n",
       "      <th>title</th>\n",
       "      <th>link</th>\n",
       "      <th>excerpt</th>\n",
       "      <th>published_at</th>\n",
       "      <th>funding_round</th>\n",
       "      <th>money_raised</th>\n",
       "      <th>Company</th>\n",
       "    </tr>\n",
       "  </thead>\n",
       "  <tbody>\n",
       "    <tr>\n",
       "      <th>83</th>\n",
       "      <td>Harry?s Raises $75.6 Million In Series C, Valu...</td>\n",
       "      <td>https://techcrunch.com/2015/07/07/harrys-raise...</td>\n",
       "      <td>Harry's, the direct-to-consumer mens' razor co...</td>\n",
       "      <td>2015/07/07</td>\n",
       "      <td>Series C</td>\n",
       "      <td>$75.6 M</td>\n",
       "      <td>s</td>\n",
       "    </tr>\n",
       "    <tr>\n",
       "      <th>118</th>\n",
       "      <td>Care/of raises $12 million in Series A for its...</td>\n",
       "      <td>https://techcrunch.com/2017/07/12/careof-raise...</td>\n",
       "      <td>Care/of, a year-old, New York-based company th...</td>\n",
       "      <td>2017/07/12</td>\n",
       "      <td>Series A</td>\n",
       "      <td>$12 M</td>\n",
       "      <td>of</td>\n",
       "    </tr>\n",
       "    <tr>\n",
       "      <th>185</th>\n",
       "      <td>Don?t Launch A Company, Launch A Fund (Or The ...</td>\n",
       "      <td>https://techcrunch.com/2011/11/04/dont-launch-...</td>\n",
       "      <td>Editor?s note: This guest post is authored by ...</td>\n",
       "      <td>2011/11/04</td>\n",
       "      <td>Series A</td>\n",
       "      <td>unknown</td>\n",
       "      <td>A</td>\n",
       "    </tr>\n",
       "    <tr>\n",
       "      <th>379</th>\n",
       "      <td>Harryâ??s Raises $75.6 Million In Series C, Va...</td>\n",
       "      <td>https://techcrunch.com/2015/07/07/harrys-raise...</td>\n",
       "      <td>Harry's, the direct-to-consumer mens' razor co...</td>\n",
       "      <td>2015/07/07</td>\n",
       "      <td>Series C</td>\n",
       "      <td>$75.6 M</td>\n",
       "      <td>s</td>\n",
       "    </tr>\n",
       "    <tr>\n",
       "      <th>418</th>\n",
       "      <td>Donâ??t Launch A Company, Launch A Fund (Or Th...</td>\n",
       "      <td>https://techcrunch.com/2011/11/04/dont-launch-...</td>\n",
       "      <td>Editorâ??s note: This guest post is authored b...</td>\n",
       "      <td>2011/11/04</td>\n",
       "      <td>Series A</td>\n",
       "      <td>unknown</td>\n",
       "      <td>A</td>\n",
       "    </tr>\n",
       "    <tr>\n",
       "      <th>458</th>\n",
       "      <td>French online restaurant FoodChÃ©ri raises â?¬...</td>\n",
       "      <td>https://techcrunch.com/2016/09/19/french-onlin...</td>\n",
       "      <td>French food delivery startup FoodChÃ©ri, which...</td>\n",
       "      <td>2016/09/19</td>\n",
       "      <td>Series A</td>\n",
       "      <td>¬6 M</td>\n",
       "      <td>ri</td>\n",
       "    </tr>\n",
       "    <tr>\n",
       "      <th>486</th>\n",
       "      <td>Virtual nurse app Sense.ly raises $8 million f...</td>\n",
       "      <td>https://techcrunch.com/2017/02/14/virtual-nurs...</td>\n",
       "      <td>San Francisco startup Sense.ly has raised $8 m...</td>\n",
       "      <td>2017/02/14</td>\n",
       "      <td>Series B</td>\n",
       "      <td>$8 M</td>\n",
       "      <td>ly</td>\n",
       "    </tr>\n",
       "    <tr>\n",
       "      <th>505</th>\n",
       "      <td>Price f(x) raises â?¬4M Series A for pricing o...</td>\n",
       "      <td>https://techcrunch.com/2016/12/20/price-fx/</td>\n",
       "      <td>Price f(x), a pricing optimization SaaS, has r...</td>\n",
       "      <td>2016/12/20</td>\n",
       "      <td>Series A</td>\n",
       "      <td>¬4 M</td>\n",
       "      <td>x)</td>\n",
       "    </tr>\n",
       "    <tr>\n",
       "      <th>534</th>\n",
       "      <td>Upload VR startup raised $4.5 million Series A...</td>\n",
       "      <td>https://techcrunch.com/2017/05/16/upload-vr-st...</td>\n",
       "      <td>Upload, which shiftedÂ the \"UploadVR\" brandÂ t...</td>\n",
       "      <td>2017/05/16</td>\n",
       "      <td>Series A</td>\n",
       "      <td>$4.5 M</td>\n",
       "      <td>VR</td>\n",
       "    </tr>\n",
       "  </tbody>\n",
       "</table>\n",
       "</div>"
      ],
      "text/plain": [
       "                                                 title  \\\n",
       "83   Harry?s Raises $75.6 Million In Series C, Valu...   \n",
       "118  Care/of raises $12 million in Series A for its...   \n",
       "185  Don?t Launch A Company, Launch A Fund (Or The ...   \n",
       "379  Harryâ??s Raises $75.6 Million In Series C, Va...   \n",
       "418  Donâ??t Launch A Company, Launch A Fund (Or Th...   \n",
       "458  French online restaurant FoodChÃ©ri raises â?¬...   \n",
       "486  Virtual nurse app Sense.ly raises $8 million f...   \n",
       "505  Price f(x) raises â?¬4M Series A for pricing o...   \n",
       "534  Upload VR startup raised $4.5 million Series A...   \n",
       "\n",
       "                                                  link  \\\n",
       "83   https://techcrunch.com/2015/07/07/harrys-raise...   \n",
       "118  https://techcrunch.com/2017/07/12/careof-raise...   \n",
       "185  https://techcrunch.com/2011/11/04/dont-launch-...   \n",
       "379  https://techcrunch.com/2015/07/07/harrys-raise...   \n",
       "418  https://techcrunch.com/2011/11/04/dont-launch-...   \n",
       "458  https://techcrunch.com/2016/09/19/french-onlin...   \n",
       "486  https://techcrunch.com/2017/02/14/virtual-nurs...   \n",
       "505        https://techcrunch.com/2016/12/20/price-fx/   \n",
       "534  https://techcrunch.com/2017/05/16/upload-vr-st...   \n",
       "\n",
       "                                               excerpt published_at  \\\n",
       "83   Harry's, the direct-to-consumer mens' razor co...   2015/07/07   \n",
       "118  Care/of, a year-old, New York-based company th...   2017/07/12   \n",
       "185  Editor?s note: This guest post is authored by ...   2011/11/04   \n",
       "379  Harry's, the direct-to-consumer mens' razor co...   2015/07/07   \n",
       "418  Editorâ??s note: This guest post is authored b...   2011/11/04   \n",
       "458  French food delivery startup FoodChÃ©ri, which...   2016/09/19   \n",
       "486  San Francisco startup Sense.ly has raised $8 m...   2017/02/14   \n",
       "505  Price f(x), a pricing optimization SaaS, has r...   2016/12/20   \n",
       "534  Upload, which shiftedÂ the \"UploadVR\" brandÂ t...   2017/05/16   \n",
       "\n",
       "    funding_round money_raised Company  \n",
       "83       Series C      $75.6 M       s  \n",
       "118      Series A        $12 M      of  \n",
       "185      Series A      unknown       A  \n",
       "379      Series C      $75.6 M       s  \n",
       "418      Series A      unknown       A  \n",
       "458      Series A         ¬6 M      ri  \n",
       "486      Series B         $8 M      ly  \n",
       "505      Series A         ¬4 M      x)  \n",
       "534      Series A       $4.5 M      VR  "
      ]
     },
     "execution_count": 17,
     "metadata": {},
     "output_type": "execute_result"
    }
   ],
   "source": [
    "data.loc[mask]"
   ]
  },
  {
   "cell_type": "code",
   "execution_count": 18,
   "metadata": {
    "collapsed": true
   },
   "outputs": [],
   "source": [
    "data.loc[83].Company = \"Harry's\"\n",
    "data.loc[118].Company = \"Care/of\"\n",
    "data.loc[486].Company = \"Sense.ly\"\n",
    "data.loc[505].Company = \"Price f(x)\"\n",
    "data.loc[534].Company = \"Upload\""
   ]
  },
  {
   "cell_type": "code",
   "execution_count": 19,
   "metadata": {
    "collapsed": true
   },
   "outputs": [],
   "source": [
    "data.drop(data.index[[185,379, 418, 458, 486]], inplace = True)"
   ]
  },
  {
   "cell_type": "code",
   "execution_count": 20,
   "metadata": {
    "scrolled": false
   },
   "outputs": [
    {
     "data": {
      "text/plain": [
       "(0, 7)"
      ]
     },
     "execution_count": 20,
     "metadata": {},
     "output_type": "execute_result"
    }
   ],
   "source": [
    "mask = data.Company.apply(lambda company: True if len(company) < 3 else False)\n",
    "data.loc[mask].shape"
   ]
  },
  {
   "cell_type": "code",
   "execution_count": 21,
   "metadata": {
    "collapsed": true,
    "scrolled": true
   },
   "outputs": [],
   "source": [
    "data.to_csv(\"article_after_processing2.csv\", index = False)"
   ]
  },
  {
   "cell_type": "code",
   "execution_count": 22,
   "metadata": {},
   "outputs": [
    {
     "data": {
      "text/plain": [
       "(616, 7)"
      ]
     },
     "execution_count": 22,
     "metadata": {},
     "output_type": "execute_result"
    }
   ],
   "source": [
    "data.shape"
   ]
  }
 ],
 "metadata": {
  "kernelspec": {
   "display_name": "Python 3",
   "language": "python",
   "name": "python3"
  },
  "language_info": {
   "codemirror_mode": {
    "name": "ipython",
    "version": 3
   },
   "file_extension": ".py",
   "mimetype": "text/x-python",
   "name": "python",
   "nbconvert_exporter": "python",
   "pygments_lexer": "ipython3",
   "version": "3.6.0"
  }
 },
 "nbformat": 4,
 "nbformat_minor": 2
}
