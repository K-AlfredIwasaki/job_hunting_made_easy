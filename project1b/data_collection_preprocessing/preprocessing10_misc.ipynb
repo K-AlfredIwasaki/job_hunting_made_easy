{
 "cells": [
  {
   "cell_type": "code",
   "execution_count": 1,
   "metadata": {
    "collapsed": true
   },
   "outputs": [],
   "source": [
    "# some values are missing in founded column"
   ]
  },
  {
   "cell_type": "code",
   "execution_count": 2,
   "metadata": {
    "collapsed": true
   },
   "outputs": [],
   "source": [
    "import re\n",
    "import pandas as pd\n",
    "data = pd.read_csv(\"article_after_processing9.csv\", encoding='iso-8859-1')"
   ]
  },
  {
   "cell_type": "code",
   "execution_count": 3,
   "metadata": {
    "collapsed": true
   },
   "outputs": [],
   "source": [
    "from get_company_founded_from_bloomberg import *"
   ]
  },
  {
   "cell_type": "code",
   "execution_count": 4,
   "metadata": {
    "scrolled": true
   },
   "outputs": [
    {
     "data": {
      "text/html": [
       "<div>\n",
       "<table border=\"1\" class=\"dataframe\">\n",
       "  <thead>\n",
       "    <tr style=\"text-align: right;\">\n",
       "      <th></th>\n",
       "      <th>title</th>\n",
       "      <th>link</th>\n",
       "      <th>excerpt</th>\n",
       "      <th>published_at</th>\n",
       "      <th>funding_round</th>\n",
       "      <th>money_raised</th>\n",
       "      <th>Company</th>\n",
       "      <th>money_raised_float</th>\n",
       "      <th>linkedin_link</th>\n",
       "      <th>Company_at_Linkedin</th>\n",
       "      <th>...</th>\n",
       "      <th>spc_booking_ticketing</th>\n",
       "      <th>spc_Apparel</th>\n",
       "      <th>spc_cloud</th>\n",
       "      <th>spc_API</th>\n",
       "      <th>spc_device</th>\n",
       "      <th>spc_design</th>\n",
       "      <th>spc_enterprise</th>\n",
       "      <th>spc_product</th>\n",
       "      <th>spc_robotics_manufacturing</th>\n",
       "      <th>spc_total</th>\n",
       "    </tr>\n",
       "  </thead>\n",
       "  <tbody>\n",
       "    <tr>\n",
       "      <th>51</th>\n",
       "      <td>Snapchat Raises $50 Million In Series C From C...</td>\n",
       "      <td>https://techcrunch.com/2013/12/11/snapchat-ser...</td>\n",
       "      <td>Amid rumors of a $3 billion acquisition offer ...</td>\n",
       "      <td>12/11/2013</td>\n",
       "      <td>Series C</td>\n",
       "      <td>$50 M</td>\n",
       "      <td>Snapchat</td>\n",
       "      <td>50.0</td>\n",
       "      <td>https://www.linkedin.com/company/snapchat</td>\n",
       "      <td>snapchat</td>\n",
       "      <td>...</td>\n",
       "      <td>0</td>\n",
       "      <td>0</td>\n",
       "      <td>0</td>\n",
       "      <td>0</td>\n",
       "      <td>0</td>\n",
       "      <td>0</td>\n",
       "      <td>0</td>\n",
       "      <td>0</td>\n",
       "      <td>0</td>\n",
       "      <td>0</td>\n",
       "    </tr>\n",
       "    <tr>\n",
       "      <th>142</th>\n",
       "      <td>Like.com's Perfect Timing: $32 Million Series ...</td>\n",
       "      <td>https://techcrunch.com/2008/10/21/likecoms-per...</td>\n",
       "      <td>Silicon Valley based Like.com managed to raise...</td>\n",
       "      <td>10/21/2008</td>\n",
       "      <td>Series C</td>\n",
       "      <td>$32 M</td>\n",
       "      <td>Like.com'</td>\n",
       "      <td>32.0</td>\n",
       "      <td>https://www.linkedin.com/company/like.com</td>\n",
       "      <td>Like.com</td>\n",
       "      <td>...</td>\n",
       "      <td>0</td>\n",
       "      <td>1</td>\n",
       "      <td>0</td>\n",
       "      <td>0</td>\n",
       "      <td>0</td>\n",
       "      <td>0</td>\n",
       "      <td>0</td>\n",
       "      <td>0</td>\n",
       "      <td>0</td>\n",
       "      <td>1</td>\n",
       "    </tr>\n",
       "    <tr>\n",
       "      <th>181</th>\n",
       "      <td>ShareThis Aims For Mobile, With $23M Series C ...</td>\n",
       "      <td>https://techcrunch.com/2013/03/20/sharethis-ai...</td>\n",
       "      <td>Palo Alto-based publisher platform ShareThis, ...</td>\n",
       "      <td>3/20/2013</td>\n",
       "      <td>Series C</td>\n",
       "      <td>$23 M</td>\n",
       "      <td>ShareThis</td>\n",
       "      <td>23.0</td>\n",
       "      <td>https://www.linkedin.com/company/sharethis</td>\n",
       "      <td>sharethis</td>\n",
       "      <td>...</td>\n",
       "      <td>0</td>\n",
       "      <td>0</td>\n",
       "      <td>0</td>\n",
       "      <td>0</td>\n",
       "      <td>0</td>\n",
       "      <td>0</td>\n",
       "      <td>0</td>\n",
       "      <td>0</td>\n",
       "      <td>0</td>\n",
       "      <td>2</td>\n",
       "    </tr>\n",
       "    <tr>\n",
       "      <th>191</th>\n",
       "      <td>Refinery29 Raises $50 Million In Series D</td>\n",
       "      <td>https://techcrunch.com/2015/04/27/refinery29-r...</td>\n",
       "      <td>Refinery29, the 10-year-old media site that ca...</td>\n",
       "      <td>4/27/2015</td>\n",
       "      <td>Series D</td>\n",
       "      <td>$50 M</td>\n",
       "      <td>Refinery29</td>\n",
       "      <td>50.0</td>\n",
       "      <td>https://www.linkedin.com/company/refinery29-inc-</td>\n",
       "      <td>refinery29 inc</td>\n",
       "      <td>...</td>\n",
       "      <td>0</td>\n",
       "      <td>1</td>\n",
       "      <td>0</td>\n",
       "      <td>0</td>\n",
       "      <td>0</td>\n",
       "      <td>0</td>\n",
       "      <td>0</td>\n",
       "      <td>0</td>\n",
       "      <td>0</td>\n",
       "      <td>3</td>\n",
       "    </tr>\n",
       "    <tr>\n",
       "      <th>213</th>\n",
       "      <td>Walker &amp; Company Brands Raises $24M Series B, ...</td>\n",
       "      <td>https://techcrunch.com/2015/09/28/walker-compa...</td>\n",
       "      <td>Building a lifestyle brand is nothing like bui...</td>\n",
       "      <td>9/28/2015</td>\n",
       "      <td>Series B</td>\n",
       "      <td>$24 M</td>\n",
       "      <td>Brands</td>\n",
       "      <td>24.0</td>\n",
       "      <td>https://www.linkedin.com/company/hillshire-brands</td>\n",
       "      <td>hillshire brands</td>\n",
       "      <td>...</td>\n",
       "      <td>0</td>\n",
       "      <td>0</td>\n",
       "      <td>0</td>\n",
       "      <td>0</td>\n",
       "      <td>0</td>\n",
       "      <td>0</td>\n",
       "      <td>0</td>\n",
       "      <td>0</td>\n",
       "      <td>0</td>\n",
       "      <td>1</td>\n",
       "    </tr>\n",
       "  </tbody>\n",
       "</table>\n",
       "<p>5 rows × 56 columns</p>\n",
       "</div>"
      ],
      "text/plain": [
       "                                                 title  \\\n",
       "51   Snapchat Raises $50 Million In Series C From C...   \n",
       "142  Like.com's Perfect Timing: $32 Million Series ...   \n",
       "181  ShareThis Aims For Mobile, With $23M Series C ...   \n",
       "191          Refinery29 Raises $50 Million In Series D   \n",
       "213  Walker & Company Brands Raises $24M Series B, ...   \n",
       "\n",
       "                                                  link  \\\n",
       "51   https://techcrunch.com/2013/12/11/snapchat-ser...   \n",
       "142  https://techcrunch.com/2008/10/21/likecoms-per...   \n",
       "181  https://techcrunch.com/2013/03/20/sharethis-ai...   \n",
       "191  https://techcrunch.com/2015/04/27/refinery29-r...   \n",
       "213  https://techcrunch.com/2015/09/28/walker-compa...   \n",
       "\n",
       "                                               excerpt published_at  \\\n",
       "51   Amid rumors of a $3 billion acquisition offer ...   12/11/2013   \n",
       "142  Silicon Valley based Like.com managed to raise...   10/21/2008   \n",
       "181  Palo Alto-based publisher platform ShareThis, ...    3/20/2013   \n",
       "191  Refinery29, the 10-year-old media site that ca...    4/27/2015   \n",
       "213  Building a lifestyle brand is nothing like bui...    9/28/2015   \n",
       "\n",
       "    funding_round money_raised     Company  money_raised_float  \\\n",
       "51       Series C        $50 M    Snapchat                50.0   \n",
       "142      Series C        $32 M   Like.com'                32.0   \n",
       "181      Series C        $23 M   ShareThis                23.0   \n",
       "191      Series D        $50 M  Refinery29                50.0   \n",
       "213      Series B        $24 M      Brands                24.0   \n",
       "\n",
       "                                         linkedin_link Company_at_Linkedin  \\\n",
       "51           https://www.linkedin.com/company/snapchat            snapchat   \n",
       "142          https://www.linkedin.com/company/like.com            Like.com   \n",
       "181         https://www.linkedin.com/company/sharethis           sharethis   \n",
       "191   https://www.linkedin.com/company/refinery29-inc-     refinery29 inc    \n",
       "213  https://www.linkedin.com/company/hillshire-brands    hillshire brands   \n",
       "\n",
       "       ...    spc_booking_ticketing spc_Apparel spc_cloud spc_API spc_device  \\\n",
       "51     ...                        0           0         0       0          0   \n",
       "142    ...                        0           1         0       0          0   \n",
       "181    ...                        0           0         0       0          0   \n",
       "191    ...                        0           1         0       0          0   \n",
       "213    ...                        0           0         0       0          0   \n",
       "\n",
       "    spc_design spc_enterprise  spc_product spc_robotics_manufacturing  \\\n",
       "51           0              0            0                          0   \n",
       "142          0              0            0                          0   \n",
       "181          0              0            0                          0   \n",
       "191          0              0            0                          0   \n",
       "213          0              0            0                          0   \n",
       "\n",
       "    spc_total  \n",
       "51          0  \n",
       "142         1  \n",
       "181         2  \n",
       "191         3  \n",
       "213         1  \n",
       "\n",
       "[5 rows x 56 columns]"
      ]
     },
     "execution_count": 4,
     "metadata": {},
     "output_type": "execute_result"
    }
   ],
   "source": [
    "data[data.Founded.isnull()]"
   ]
  },
  {
   "cell_type": "code",
   "execution_count": 5,
   "metadata": {
    "scrolled": false
   },
   "outputs": [
    {
     "name": "stdout",
     "output_type": "stream",
     "text": [
      "Snapchat, Inc.\n",
      "https://www.bloomberg.com/research/stocks/private/snapshot.asp?privcapId=224055283\n",
      "found\n",
      "Like.com\n",
      "google link not found\n",
      "ShareThis\n",
      "https://www.bloomberg.com/research/stocks/private/snapshot.asp?privcapId=20551770\n",
      "found\n",
      "Refinery29, Inc.\n",
      "https://www.bloomberg.com/research/stocks/private/snapshot.asp?privcapId=98131792\n",
      "found\n",
      "Hillshire Brands\n",
      "https://www.bloomberg.com/research/stocks/private/snapshot.asp?privcapId=91823\n",
      "found\n"
     ]
    }
   ],
   "source": [
    "data.Founded = data.apply(\n",
    "    lambda row: row.Founded if row.Founded > 0 \n",
    "    else get_founded_from_bloomberg_merged(row.CompanyName), axis = 1)"
   ]
  },
  {
   "cell_type": "code",
   "execution_count": 8,
   "metadata": {},
   "outputs": [
    {
     "data": {
      "text/html": [
       "<div>\n",
       "<table border=\"1\" class=\"dataframe\">\n",
       "  <thead>\n",
       "    <tr style=\"text-align: right;\">\n",
       "      <th></th>\n",
       "      <th>title</th>\n",
       "      <th>link</th>\n",
       "      <th>excerpt</th>\n",
       "      <th>published_at</th>\n",
       "      <th>funding_round</th>\n",
       "      <th>money_raised</th>\n",
       "      <th>Company</th>\n",
       "      <th>money_raised_float</th>\n",
       "      <th>linkedin_link</th>\n",
       "      <th>Company_at_Linkedin</th>\n",
       "      <th>...</th>\n",
       "      <th>spc_booking_ticketing</th>\n",
       "      <th>spc_Apparel</th>\n",
       "      <th>spc_cloud</th>\n",
       "      <th>spc_API</th>\n",
       "      <th>spc_device</th>\n",
       "      <th>spc_design</th>\n",
       "      <th>spc_enterprise</th>\n",
       "      <th>spc_product</th>\n",
       "      <th>spc_robotics_manufacturing</th>\n",
       "      <th>spc_total</th>\n",
       "    </tr>\n",
       "  </thead>\n",
       "  <tbody>\n",
       "    <tr>\n",
       "      <th>142</th>\n",
       "      <td>Like.com's Perfect Timing: $32 Million Series ...</td>\n",
       "      <td>https://techcrunch.com/2008/10/21/likecoms-per...</td>\n",
       "      <td>Silicon Valley based Like.com managed to raise...</td>\n",
       "      <td>10/21/2008</td>\n",
       "      <td>Series C</td>\n",
       "      <td>$32 M</td>\n",
       "      <td>Like.com'</td>\n",
       "      <td>32.0</td>\n",
       "      <td>https://www.linkedin.com/company/like.com</td>\n",
       "      <td>Like.com</td>\n",
       "      <td>...</td>\n",
       "      <td>0</td>\n",
       "      <td>1</td>\n",
       "      <td>0</td>\n",
       "      <td>0</td>\n",
       "      <td>0</td>\n",
       "      <td>0</td>\n",
       "      <td>0</td>\n",
       "      <td>0</td>\n",
       "      <td>0</td>\n",
       "      <td>1</td>\n",
       "    </tr>\n",
       "  </tbody>\n",
       "</table>\n",
       "<p>1 rows × 56 columns</p>\n",
       "</div>"
      ],
      "text/plain": [
       "                                                 title  \\\n",
       "142  Like.com's Perfect Timing: $32 Million Series ...   \n",
       "\n",
       "                                                  link  \\\n",
       "142  https://techcrunch.com/2008/10/21/likecoms-per...   \n",
       "\n",
       "                                               excerpt published_at  \\\n",
       "142  Silicon Valley based Like.com managed to raise...   10/21/2008   \n",
       "\n",
       "    funding_round money_raised    Company  money_raised_float  \\\n",
       "142      Series C        $32 M  Like.com'                32.0   \n",
       "\n",
       "                                 linkedin_link Company_at_Linkedin    ...     \\\n",
       "142  https://www.linkedin.com/company/like.com            Like.com    ...      \n",
       "\n",
       "    spc_booking_ticketing spc_Apparel spc_cloud spc_API spc_device spc_design  \\\n",
       "142                     0           1         0       0          0          0   \n",
       "\n",
       "    spc_enterprise spc_product spc_robotics_manufacturing spc_total  \n",
       "142              0           0                          0         1  \n",
       "\n",
       "[1 rows x 56 columns]"
      ]
     },
     "execution_count": 8,
     "metadata": {},
     "output_type": "execute_result"
    }
   ],
   "source": [
    "data[data.Founded == \"not found\"]"
   ]
  },
  {
   "cell_type": "code",
   "execution_count": 13,
   "metadata": {},
   "outputs": [],
   "source": [
    "def fill_missing_founded(row):\n",
    "    if row.CompanyName == 'Like.com':\n",
    "        return 1986\n",
    "    else:\n",
    "        return row.Founded\n",
    "data.Founded = data.apply(lambda row: fill_missing_founded(row), axis = 1)"
   ]
  },
  {
   "cell_type": "code",
   "execution_count": 18,
   "metadata": {
    "scrolled": false
   },
   "outputs": [
    {
     "name": "stderr",
     "output_type": "stream",
     "text": [
      "C:\\Users\\K\\Anaconda3\\lib\\site-packages\\pandas\\core\\ops.py:792: FutureWarning: elementwise comparison failed; returning scalar instead, but in the future will perform elementwise comparison\n",
      "  result = getattr(x, name)(y)\n"
     ]
    },
    {
     "ename": "TypeError",
     "evalue": "invalid type comparison",
     "output_type": "error",
     "traceback": [
      "\u001b[0;31m---------------------------------------------------------------------------\u001b[0m",
      "\u001b[0;31mTypeError\u001b[0m                                 Traceback (most recent call last)",
      "\u001b[0;32m<ipython-input-18-345aa388c6ce>\u001b[0m in \u001b[0;36m<module>\u001b[0;34m()\u001b[0m\n\u001b[1;32m      1\u001b[0m \u001b[1;31m# confirm the change\u001b[0m\u001b[1;33m\u001b[0m\u001b[1;33m\u001b[0m\u001b[0m\n\u001b[0;32m----> 2\u001b[0;31m \u001b[0mdata\u001b[0m\u001b[1;33m[\u001b[0m\u001b[0mdata\u001b[0m\u001b[1;33m.\u001b[0m\u001b[0mFounded\u001b[0m \u001b[1;33m==\u001b[0m \u001b[1;34m\"not found\"\u001b[0m\u001b[1;33m]\u001b[0m\u001b[1;33m\u001b[0m\u001b[0m\n\u001b[0m",
      "\u001b[0;32mC:\\Users\\K\\Anaconda3\\lib\\site-packages\\pandas\\core\\ops.py\u001b[0m in \u001b[0;36mwrapper\u001b[0;34m(self, other, axis)\u001b[0m\n\u001b[1;32m    853\u001b[0m \u001b[1;33m\u001b[0m\u001b[0m\n\u001b[1;32m    854\u001b[0m             \u001b[1;32mwith\u001b[0m \u001b[0mnp\u001b[0m\u001b[1;33m.\u001b[0m\u001b[0merrstate\u001b[0m\u001b[1;33m(\u001b[0m\u001b[0mall\u001b[0m\u001b[1;33m=\u001b[0m\u001b[1;34m'ignore'\u001b[0m\u001b[1;33m)\u001b[0m\u001b[1;33m:\u001b[0m\u001b[1;33m\u001b[0m\u001b[0m\n\u001b[0;32m--> 855\u001b[0;31m                 \u001b[0mres\u001b[0m \u001b[1;33m=\u001b[0m \u001b[0mna_op\u001b[0m\u001b[1;33m(\u001b[0m\u001b[0mvalues\u001b[0m\u001b[1;33m,\u001b[0m \u001b[0mother\u001b[0m\u001b[1;33m)\u001b[0m\u001b[1;33m\u001b[0m\u001b[0m\n\u001b[0m\u001b[1;32m    856\u001b[0m             \u001b[1;32mif\u001b[0m \u001b[0misscalar\u001b[0m\u001b[1;33m(\u001b[0m\u001b[0mres\u001b[0m\u001b[1;33m)\u001b[0m\u001b[1;33m:\u001b[0m\u001b[1;33m\u001b[0m\u001b[0m\n\u001b[1;32m    857\u001b[0m                 raise TypeError('Could not compare %s type with Series' %\n",
      "\u001b[0;32mC:\\Users\\K\\Anaconda3\\lib\\site-packages\\pandas\\core\\ops.py\u001b[0m in \u001b[0;36mna_op\u001b[0;34m(x, y)\u001b[0m\n\u001b[1;32m    792\u001b[0m                     \u001b[0mresult\u001b[0m \u001b[1;33m=\u001b[0m \u001b[0mgetattr\u001b[0m\u001b[1;33m(\u001b[0m\u001b[0mx\u001b[0m\u001b[1;33m,\u001b[0m \u001b[0mname\u001b[0m\u001b[1;33m)\u001b[0m\u001b[1;33m(\u001b[0m\u001b[0my\u001b[0m\u001b[1;33m)\u001b[0m\u001b[1;33m\u001b[0m\u001b[0m\n\u001b[1;32m    793\u001b[0m                 \u001b[1;32mif\u001b[0m \u001b[0mresult\u001b[0m \u001b[1;32mis\u001b[0m \u001b[0mNotImplemented\u001b[0m\u001b[1;33m:\u001b[0m\u001b[1;33m\u001b[0m\u001b[0m\n\u001b[0;32m--> 794\u001b[0;31m                     \u001b[1;32mraise\u001b[0m \u001b[0mTypeError\u001b[0m\u001b[1;33m(\u001b[0m\u001b[1;34m\"invalid type comparison\"\u001b[0m\u001b[1;33m)\u001b[0m\u001b[1;33m\u001b[0m\u001b[0m\n\u001b[0m\u001b[1;32m    795\u001b[0m             \u001b[1;32mexcept\u001b[0m \u001b[0mAttributeError\u001b[0m\u001b[1;33m:\u001b[0m\u001b[1;33m\u001b[0m\u001b[0m\n\u001b[1;32m    796\u001b[0m                 \u001b[0mresult\u001b[0m \u001b[1;33m=\u001b[0m \u001b[0mop\u001b[0m\u001b[1;33m(\u001b[0m\u001b[0mx\u001b[0m\u001b[1;33m,\u001b[0m \u001b[0my\u001b[0m\u001b[1;33m)\u001b[0m\u001b[1;33m\u001b[0m\u001b[0m\n",
      "\u001b[0;31mTypeError\u001b[0m: invalid type comparison"
     ]
    }
   ],
   "source": [
    "# confirm the change\n",
    "data[data.Founded == \"not found\"]"
   ]
  },
  {
   "cell_type": "code",
   "execution_count": 19,
   "metadata": {
    "collapsed": true
   },
   "outputs": [],
   "source": [
    "data.to_csv(\"article_after_processing10.csv\", index = False)"
   ]
  }
 ],
 "metadata": {
  "kernelspec": {
   "display_name": "Python 3",
   "language": "python",
   "name": "python3"
  },
  "language_info": {
   "codemirror_mode": {
    "name": "ipython",
    "version": 3
   },
   "file_extension": ".py",
   "mimetype": "text/x-python",
   "name": "python",
   "nbconvert_exporter": "python",
   "pygments_lexer": "ipython3",
   "version": "3.6.0"
  }
 },
 "nbformat": 4,
 "nbformat_minor": 2
}
