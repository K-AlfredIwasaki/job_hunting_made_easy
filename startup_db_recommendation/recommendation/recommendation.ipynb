{
 "cells": [
  {
   "cell_type": "code",
   "execution_count": 1,
   "metadata": {
    "collapsed": true
   },
   "outputs": [],
   "source": [
    "import pandas as pd\n",
    "import numpy as np\n",
    "from sklearn.preprocessing import MinMaxScaler\n",
    "from sklearn.neighbors import NearestNeighbors"
   ]
  },
  {
   "cell_type": "code",
   "execution_count": 18,
   "metadata": {
    "scrolled": false
   },
   "outputs": [
    {
     "data": {
      "text/plain": [
       "funding_round    12\n",
       "Specialties      33\n",
       "City             46\n",
       "State            46\n",
       "latitude         46\n",
       "longitude        46\n",
       "dtype: int64"
      ]
     },
     "execution_count": 18,
     "metadata": {},
     "output_type": "execute_result"
    }
   ],
   "source": [
    "data = pd.read_csv(\"article_after_processing10.csv\", encoding='iso-8859-1')\n",
    "\n",
    "# confirm there is no NAs\n",
    "test = data.apply(lambda col: sum(col.isnull()), axis = 0)\n",
    "test[test > 0] # diplay NA columns more than 0"
   ]
  },
  {
   "cell_type": "code",
   "execution_count": 3,
   "metadata": {
    "scrolled": true
   },
   "outputs": [
    {
     "data": {
      "text/plain": [
       "(178, 62)"
      ]
     },
     "execution_count": 3,
     "metadata": {},
     "output_type": "execute_result"
    }
   ],
   "source": [
    "# prepare training data\n",
    "data = data[data.Country == \"United States\"]\n",
    "\n",
    "# reset index because we need to refer this dataframe to print recommendations\n",
    "data = data.reset_index(drop=True)\n",
    "cols = ['CompanyName', 'money_raised_float','Founded', 'CompanySize']\n",
    "temp = data[cols]\n",
    "\n",
    "x_train = data[['money_raised_float','Founded', 'CompanySize']]\n",
    "data.shape"
   ]
  },
  {
   "cell_type": "code",
   "execution_count": 4,
   "metadata": {
    "scrolled": true
   },
   "outputs": [
    {
     "data": {
      "text/html": [
       "<div>\n",
       "<table border=\"1\" class=\"dataframe\">\n",
       "  <thead>\n",
       "    <tr style=\"text-align: right;\">\n",
       "      <th></th>\n",
       "      <th>money_raised_float</th>\n",
       "      <th>Founded</th>\n",
       "      <th>CompanySize</th>\n",
       "    </tr>\n",
       "  </thead>\n",
       "  <tbody>\n",
       "    <tr>\n",
       "      <th>0</th>\n",
       "      <td>10</td>\n",
       "      <td>2015</td>\n",
       "      <td>1</td>\n",
       "    </tr>\n",
       "    <tr>\n",
       "      <th>1</th>\n",
       "      <td>20</td>\n",
       "      <td>2010</td>\n",
       "      <td>2</td>\n",
       "    </tr>\n",
       "    <tr>\n",
       "      <th>2</th>\n",
       "      <td>100</td>\n",
       "      <td>2010</td>\n",
       "      <td>4</td>\n",
       "    </tr>\n",
       "    <tr>\n",
       "      <th>3</th>\n",
       "      <td>200</td>\n",
       "      <td>2013</td>\n",
       "      <td>2</td>\n",
       "    </tr>\n",
       "  </tbody>\n",
       "</table>\n",
       "</div>"
      ],
      "text/plain": [
       "   money_raised_float  Founded  CompanySize\n",
       "0                  10     2015            1\n",
       "1                  20     2010            2\n",
       "2                 100     2010            4\n",
       "3                 200     2013            2"
      ]
     },
     "execution_count": 4,
     "metadata": {},
     "output_type": "execute_result"
    }
   ],
   "source": [
    "##### Generate test data #################################\n",
    "x_test = np.array([[10, 2015, 1],\n",
    "                 [20, 2010, 2],\n",
    "                [100, 2010, 4],\n",
    "                  [200, 2013, 2]])\n",
    "\n",
    "x_test = pd.DataFrame(x_test)\n",
    "x_test.columns = list(x_train) # name columns as same to x_train columns\n",
    "x_test"
   ]
  },
  {
   "cell_type": "code",
   "execution_count": 5,
   "metadata": {},
   "outputs": [],
   "source": [
    "#### Utitlity functions ##################################\n",
    "\n",
    "def convert_CompanySize(size):\n",
    "    if size == 'Nov-50':\n",
    "        return 1\n",
    "    elif size == '51-200':\n",
    "        return 2\n",
    "    elif size == '201-500':\n",
    "        return 3\n",
    "    elif size == \"501-1000\":\n",
    "        return 4\n",
    "    elif size == \"1001-5000\":\n",
    "        return 5\n",
    "    elif size == \"5001-10,000\":\n",
    "        return 6\n",
    "    elif size == \"10,001+\":\n",
    "        return 7\n",
    "    else:\n",
    "        return 0\n",
    "    \n",
    "def transform(x_train, x_test, companysize_transform =False, pandas_transform =True):\n",
    "    col_names = list(x_train)\n",
    "    \n",
    "    ### transform x_train ##############\n",
    "    # binning\n",
    "    x_train.loc[:,\"CompanySize\"] = x_train.CompanySize.apply(lambda size: convert_CompanySize(size))\n",
    "    \n",
    "    # logarithmic transformation for money_raised_float because of some outliers\n",
    "    x_train.loc[:,\"money_raised_float\"] = np.log(x_train[\"money_raised_float\"])\n",
    "    \n",
    "    scaler = MinMaxScaler()\n",
    "    transformed_x_train = scaler.fit_transform(x_train)\n",
    "    \n",
    "    ### transform x_test ###############\n",
    "    # binning\n",
    "    if companysize_transform:\n",
    "        x_test.loc[:,\"CompanySize\"] = x_test.CompanySize.apply(lambda size: convert_CompanySize(size))\n",
    "        \n",
    "    # logarithmic transformation for money_raised_float because of some outliers\n",
    "    x_test.loc[:,\"money_raised_float\"] = np.log(x_test[\"money_raised_float\"])\n",
    "    \n",
    "    transformed_x_test = scaler.transform(x_test)\n",
    "    \n",
    "    ### tranform numpy to pandas ######\n",
    "    \n",
    "    if pandas_transform:\n",
    "        transformed_x_train = pd.DataFrame(transformed_x_train)\n",
    "        transformed_x_test = pd.DataFrame(transformed_x_test)\n",
    "        transformed_x_train.columns = col_names\n",
    "        transformed_x_test.columns = col_names\n",
    "        \n",
    "    return transformed_x_train, transformed_x_test"
   ]
  },
  {
   "cell_type": "code",
   "execution_count": 6,
   "metadata": {
    "scrolled": true
   },
   "outputs": [
    {
     "name": "stderr",
     "output_type": "stream",
     "text": [
      "C:\\Users\\K\\Anaconda3\\lib\\site-packages\\pandas\\core\\indexing.py:477: SettingWithCopyWarning: \n",
      "A value is trying to be set on a copy of a slice from a DataFrame.\n",
      "Try using .loc[row_indexer,col_indexer] = value instead\n",
      "\n",
      "See the caveats in the documentation: http://pandas.pydata.org/pandas-docs/stable/indexing.html#indexing-view-versus-copy\n",
      "  self.obj[item] = s\n"
     ]
    }
   ],
   "source": [
    "train, test = transform(x_train, x_test)"
   ]
  },
  {
   "cell_type": "code",
   "execution_count": 7,
   "metadata": {
    "scrolled": false
   },
   "outputs": [
    {
     "data": {
      "text/html": [
       "<div>\n",
       "<table border=\"1\" class=\"dataframe\">\n",
       "  <thead>\n",
       "    <tr style=\"text-align: right;\">\n",
       "      <th></th>\n",
       "      <th>money_raised_float</th>\n",
       "      <th>Founded</th>\n",
       "      <th>CompanySize</th>\n",
       "    </tr>\n",
       "  </thead>\n",
       "  <tbody>\n",
       "    <tr>\n",
       "      <th>count</th>\n",
       "      <td>178.000000</td>\n",
       "      <td>178.000000</td>\n",
       "      <td>178.000000</td>\n",
       "    </tr>\n",
       "    <tr>\n",
       "      <th>mean</th>\n",
       "      <td>0.247376</td>\n",
       "      <td>0.891530</td>\n",
       "      <td>0.273408</td>\n",
       "    </tr>\n",
       "    <tr>\n",
       "      <th>std</th>\n",
       "      <td>0.176857</td>\n",
       "      <td>0.091735</td>\n",
       "      <td>0.193665</td>\n",
       "    </tr>\n",
       "    <tr>\n",
       "      <th>min</th>\n",
       "      <td>0.000000</td>\n",
       "      <td>0.000000</td>\n",
       "      <td>0.000000</td>\n",
       "    </tr>\n",
       "    <tr>\n",
       "      <th>25%</th>\n",
       "      <td>0.107813</td>\n",
       "      <td>0.871795</td>\n",
       "      <td>0.166667</td>\n",
       "    </tr>\n",
       "    <tr>\n",
       "      <th>50%</th>\n",
       "      <td>0.209492</td>\n",
       "      <td>0.910256</td>\n",
       "      <td>0.166667</td>\n",
       "    </tr>\n",
       "    <tr>\n",
       "      <th>75%</th>\n",
       "      <td>0.362341</td>\n",
       "      <td>0.935897</td>\n",
       "      <td>0.333333</td>\n",
       "    </tr>\n",
       "    <tr>\n",
       "      <th>max</th>\n",
       "      <td>1.000000</td>\n",
       "      <td>1.000000</td>\n",
       "      <td>1.000000</td>\n",
       "    </tr>\n",
       "  </tbody>\n",
       "</table>\n",
       "</div>"
      ],
      "text/plain": [
       "       money_raised_float     Founded  CompanySize\n",
       "count          178.000000  178.000000   178.000000\n",
       "mean             0.247376    0.891530     0.273408\n",
       "std              0.176857    0.091735     0.193665\n",
       "min              0.000000    0.000000     0.000000\n",
       "25%              0.107813    0.871795     0.166667\n",
       "50%              0.209492    0.910256     0.166667\n",
       "75%              0.362341    0.935897     0.333333\n",
       "max              1.000000    1.000000     1.000000"
      ]
     },
     "execution_count": 7,
     "metadata": {},
     "output_type": "execute_result"
    }
   ],
   "source": [
    "train.describe()"
   ]
  },
  {
   "cell_type": "code",
   "execution_count": 8,
   "metadata": {},
   "outputs": [
    {
     "data": {
      "text/html": [
       "<div>\n",
       "<table border=\"1\" class=\"dataframe\">\n",
       "  <thead>\n",
       "    <tr style=\"text-align: right;\">\n",
       "      <th></th>\n",
       "      <th>money_raised_float</th>\n",
       "      <th>Founded</th>\n",
       "      <th>CompanySize</th>\n",
       "    </tr>\n",
       "  </thead>\n",
       "  <tbody>\n",
       "    <tr>\n",
       "      <th>count</th>\n",
       "      <td>4.000000</td>\n",
       "      <td>4.000000</td>\n",
       "      <td>4.000000</td>\n",
       "    </tr>\n",
       "    <tr>\n",
       "      <th>mean</th>\n",
       "      <td>0.342458</td>\n",
       "      <td>0.935897</td>\n",
       "      <td>0.208333</td>\n",
       "    </tr>\n",
       "    <tr>\n",
       "      <th>std</th>\n",
       "      <td>0.317414</td>\n",
       "      <td>0.031404</td>\n",
       "      <td>0.209718</td>\n",
       "    </tr>\n",
       "    <tr>\n",
       "      <th>min</th>\n",
       "      <td>0.000000</td>\n",
       "      <td>0.910256</td>\n",
       "      <td>0.000000</td>\n",
       "    </tr>\n",
       "    <tr>\n",
       "      <th>25%</th>\n",
       "      <td>0.118856</td>\n",
       "      <td>0.910256</td>\n",
       "      <td>0.125000</td>\n",
       "    </tr>\n",
       "    <tr>\n",
       "      <th>50%</th>\n",
       "      <td>0.342458</td>\n",
       "      <td>0.929487</td>\n",
       "      <td>0.166667</td>\n",
       "    </tr>\n",
       "    <tr>\n",
       "      <th>75%</th>\n",
       "      <td>0.566060</td>\n",
       "      <td>0.955128</td>\n",
       "      <td>0.250000</td>\n",
       "    </tr>\n",
       "    <tr>\n",
       "      <th>max</th>\n",
       "      <td>0.684916</td>\n",
       "      <td>0.974359</td>\n",
       "      <td>0.500000</td>\n",
       "    </tr>\n",
       "  </tbody>\n",
       "</table>\n",
       "</div>"
      ],
      "text/plain": [
       "       money_raised_float   Founded  CompanySize\n",
       "count            4.000000  4.000000     4.000000\n",
       "mean             0.342458  0.935897     0.208333\n",
       "std              0.317414  0.031404     0.209718\n",
       "min              0.000000  0.910256     0.000000\n",
       "25%              0.118856  0.910256     0.125000\n",
       "50%              0.342458  0.929487     0.166667\n",
       "75%              0.566060  0.955128     0.250000\n",
       "max              0.684916  0.974359     0.500000"
      ]
     },
     "execution_count": 8,
     "metadata": {},
     "output_type": "execute_result"
    }
   ],
   "source": [
    "test.describe()"
   ]
  },
  {
   "cell_type": "code",
   "execution_count": 9,
   "metadata": {},
   "outputs": [
    {
     "data": {
      "text/plain": [
       "['title',\n",
       " 'link',\n",
       " 'excerpt',\n",
       " 'published_at',\n",
       " 'funding_round',\n",
       " 'money_raised',\n",
       " 'Company',\n",
       " 'money_raised_float',\n",
       " 'linkedin_link',\n",
       " 'Company_at_Linkedin',\n",
       " 'CompanyName',\n",
       " 'Specialties',\n",
       " 'Industry',\n",
       " 'Website',\n",
       " 'Location',\n",
       " 'CompanySize',\n",
       " 'Description',\n",
       " 'Founded',\n",
       " 'Also-viewed',\n",
       " 'zip_code',\n",
       " 'City',\n",
       " 'address_check',\n",
       " 'Country',\n",
       " 'State',\n",
       " 'latitude',\n",
       " 'longitude',\n",
       " 'Industry_consolidated',\n",
       " 'spc_Logistics and Supply Chain',\n",
       " 'spc_commerce',\n",
       " 'spc_mobile',\n",
       " 'spc_app',\n",
       " 'spc_analysis',\n",
       " 'spc_developer',\n",
       " 'spc_security',\n",
       " 'spc_social',\n",
       " 'spc_ds',\n",
       " 'spc_travel',\n",
       " 'spc_booking_ticketing',\n",
       " 'spc_Apparel',\n",
       " 'spc_cloud',\n",
       " 'spc_API',\n",
       " 'spc_device',\n",
       " 'spc_design',\n",
       " 'spc_enterprise',\n",
       " 'spc_robotics_manufacturing',\n",
       " 'Computer & Network Security & Hardware',\n",
       " 'Computer Software',\n",
       " 'Consumer Electronics',\n",
       " 'Consumers Goods & Services',\n",
       " 'Education',\n",
       " 'Entertainment',\n",
       " 'Financial Services',\n",
       " 'Food Business',\n",
       " 'Healthcare_health',\n",
       " 'Human Resources',\n",
       " 'Information Technology and Services',\n",
       " 'Infrastructure',\n",
       " 'Internet',\n",
       " 'Marketing and Advertising',\n",
       " 'Niche',\n",
       " 'Real Estate',\n",
       " 'spc_total']"
      ]
     },
     "execution_count": 9,
     "metadata": {},
     "output_type": "execute_result"
    }
   ],
   "source": [
    "list(data)"
   ]
  },
  {
   "cell_type": "code",
   "execution_count": 10,
   "metadata": {
    "scrolled": true
   },
   "outputs": [],
   "source": [
    "#### Utitlity functions ##################################\n",
    "def train_predict(train_data, test_data, num_companies=6):\n",
    "    model_knn = NearestNeighbors(metric = 'cosine', algorithm = 'brute')\n",
    "    model_knn.fit(train_data)\n",
    "    \n",
    "    distances, indices = model_knn.kneighbors(test_data, n_neighbors = num_companies)\n",
    "\n",
    "    return indices\n",
    "#     return print (data.ix[indices[0]])\n",
    "#     print (data.ix[indices[1]])\n",
    "#     print (data.ix[indices[2]])\n",
    "#     print (data.ix[indices[3]])\n",
    "\n"
   ]
  },
  {
   "cell_type": "code",
   "execution_count": 11,
   "metadata": {
    "scrolled": true
   },
   "outputs": [
    {
     "data": {
      "text/plain": [
       "array([[ 58,  29,  25,  80,   5,  42],\n",
       "       [ 98, 105,  23, 121,  86, 148]], dtype=int64)"
      ]
     },
     "execution_count": 11,
     "metadata": {},
     "output_type": "execute_result"
    }
   ],
   "source": [
    "indices = train_predict(train, test.loc[1:2,])\n",
    "indices"
   ]
  },
  {
   "cell_type": "code",
   "execution_count": 12,
   "metadata": {
    "scrolled": false
   },
   "outputs": [
    {
     "data": {
      "text/plain": [
       "'Entelo'"
      ]
     },
     "execution_count": 12,
     "metadata": {},
     "output_type": "execute_result"
    }
   ],
   "source": [
    "test = data.ix[58, ]\n",
    "test[\"CompanyName\"]"
   ]
  },
  {
   "cell_type": "code",
   "execution_count": 13,
   "metadata": {
    "scrolled": true
   },
   "outputs": [
    {
     "data": {
      "text/html": [
       "<div>\n",
       "<table border=\"1\" class=\"dataframe\">\n",
       "  <thead>\n",
       "    <tr style=\"text-align: right;\">\n",
       "      <th></th>\n",
       "      <th>CompanyName</th>\n",
       "      <th>money_raised_float</th>\n",
       "      <th>Founded</th>\n",
       "      <th>CompanySize</th>\n",
       "    </tr>\n",
       "  </thead>\n",
       "  <tbody>\n",
       "    <tr>\n",
       "      <th>29</th>\n",
       "      <td>Duolingo</td>\n",
       "      <td>20.0</td>\n",
       "      <td>2011.0</td>\n",
       "      <td>51-200</td>\n",
       "    </tr>\n",
       "    <tr>\n",
       "      <th>25</th>\n",
       "      <td>Conductor, Inc.</td>\n",
       "      <td>20.0</td>\n",
       "      <td>2008.0</td>\n",
       "      <td>51-200</td>\n",
       "    </tr>\n",
       "    <tr>\n",
       "      <th>80</th>\n",
       "      <td>Distil Networks</td>\n",
       "      <td>21.0</td>\n",
       "      <td>2011.0</td>\n",
       "      <td>51-200</td>\n",
       "    </tr>\n",
       "    <tr>\n",
       "      <th>5</th>\n",
       "      <td>Fugue, Inc.</td>\n",
       "      <td>20.0</td>\n",
       "      <td>2013.0</td>\n",
       "      <td>51-200</td>\n",
       "    </tr>\n",
       "    <tr>\n",
       "      <th>42</th>\n",
       "      <td>Engine Yard</td>\n",
       "      <td>19.0</td>\n",
       "      <td>2006.0</td>\n",
       "      <td>51-200</td>\n",
       "    </tr>\n",
       "  </tbody>\n",
       "</table>\n",
       "</div>"
      ],
      "text/plain": [
       "        CompanyName  money_raised_float  Founded CompanySize\n",
       "29         Duolingo                20.0   2011.0      51-200\n",
       "25  Conductor, Inc.                20.0   2008.0      51-200\n",
       "80  Distil Networks                21.0   2011.0      51-200\n",
       "5       Fugue, Inc.                20.0   2013.0      51-200\n",
       "42      Engine Yard                19.0   2006.0      51-200"
      ]
     },
     "execution_count": 13,
     "metadata": {},
     "output_type": "execute_result"
    }
   ],
   "source": [
    "temp.ix[indices[0][1:],]"
   ]
  },
  {
   "cell_type": "code",
   "execution_count": 14,
   "metadata": {
    "collapsed": true
   },
   "outputs": [],
   "source": [
    "def print_recommendations(indices):\n",
    "    # uppack indices\n",
    "    # first company to recommend\n",
    "    first_co = data.ix[indices[[0]][0][0], ]\n",
    "    print (\"----------------------------------------------------------------------------------------\")\n",
    "    print (\"We recommend to check '{}' that matches your interests!\\n\".format(first_co[\"CompanyName\"]))\n",
    "    print (\"About the start up \\n\\n{}\\n\".format(first_co[\"Description\"]))\n",
    "    print (\"Company details\\n\")\n",
    "    print (\"Website:             {}\".format(first_co[\"Website\"]))\n",
    "    print (\"Headquarters:        {}, {}\".format(first_co[\"City\"], first_co[\"State\"]))\n",
    "    print (\"Year founded:        {:.0f}\".format(first_co[\"Founded\"]))\n",
    "    print (\"Company size:        {}\".format(first_co[\"CompanySize\"]))\n",
    "    print (\"Techcrunch article:  {}\\n\".format(first_co[\"link\"]))\n",
    "    print (\"----------------------------------------------------------------------------------------\")\n",
    "    print (\"We also suggest checking following startups\\n\")\n",
    "    print (temp.ix[indices[0][1:],])\n",
    "    print (\"----------------------------------------------------------------------------------------\")"
   ]
  },
  {
   "cell_type": "code",
   "execution_count": 15,
   "metadata": {
    "scrolled": false
   },
   "outputs": [
    {
     "name": "stdout",
     "output_type": "stream",
     "text": [
      "----------------------------------------------------------------------------------------\n",
      "We recommend to check 'Entelo' that matches your interests!\n",
      "\n",
      "About the start up \n",
      "\n",
      "Entelo empowers the modern recruiter. Through our data science, talent teams identify candidates who are most qualified and receptive to new opportunities, faster than anyone else. Today, over 600 customers gain a competitive advantage by trusting Entelo to provide their teams with actionable insights, higher candidate engagement, and significant time savings.\n",
      "\n",
      "Company details\n",
      "\n",
      "Website:             http://www.entelo.com\n",
      "Headquarters:        San Francisco, CA\n",
      "Year founded:        2011\n",
      "Company size:        51-200\n",
      "Techcrunch article:  https://techcrunch.com/2017/06/15/entelo-steps-up-its-ai-game/\n",
      "\n",
      "----------------------------------------------------------------------------------------\n",
      "We also suggest checking following startups\n",
      "\n",
      "        CompanyName  money_raised_float  Founded CompanySize\n",
      "29         Duolingo                20.0   2011.0      51-200\n",
      "25  Conductor, Inc.                20.0   2008.0      51-200\n",
      "80  Distil Networks                21.0   2011.0      51-200\n",
      "5       Fugue, Inc.                20.0   2013.0      51-200\n",
      "42      Engine Yard                19.0   2006.0      51-200\n",
      "----------------------------------------------------------------------------------------\n"
     ]
    }
   ],
   "source": [
    "print_recommendations(indices)"
   ]
  }
 ],
 "metadata": {
  "kernelspec": {
   "display_name": "Python 3",
   "language": "python",
   "name": "python3"
  },
  "language_info": {
   "codemirror_mode": {
    "name": "ipython",
    "version": 3
   },
   "file_extension": ".py",
   "mimetype": "text/x-python",
   "name": "python",
   "nbconvert_exporter": "python",
   "pygments_lexer": "ipython3",
   "version": "3.6.0"
  }
 },
 "nbformat": 4,
 "nbformat_minor": 2
}
