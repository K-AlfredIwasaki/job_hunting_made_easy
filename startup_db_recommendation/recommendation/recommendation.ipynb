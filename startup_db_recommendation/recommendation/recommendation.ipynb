{
 "cells": [
  {
   "cell_type": "code",
   "execution_count": 12,
   "metadata": {
    "collapsed": true
   },
   "outputs": [],
   "source": [
    "import pandas as pd\n",
    "data = pd.read_csv(\"article_after_processing10.csv\", encoding='iso-8859-1')"
   ]
  },
  {
   "cell_type": "code",
   "execution_count": 13,
   "metadata": {
    "scrolled": true
   },
   "outputs": [
    {
     "data": {
      "text/plain": [
       "title                                          0\n",
       "link                                           0\n",
       "excerpt                                        0\n",
       "published_at                                   0\n",
       "funding_round                                 12\n",
       "money_raised                                   0\n",
       "Company                                        0\n",
       "money_raised_float                             0\n",
       "linkedin_link                                  0\n",
       "Company_at_Linkedin                            0\n",
       "CompanyName                                    0\n",
       "Specialties                                   33\n",
       "Industry                                       0\n",
       "Website                                        0\n",
       "Location                                       0\n",
       "CompanySize                                    0\n",
       "Description                                    0\n",
       "Founded                                        0\n",
       "Also-viewed                                    0\n",
       "zip_code                                       0\n",
       "City                                          46\n",
       "address_check                                  0\n",
       "Country                                        0\n",
       "State                                         46\n",
       "latitude                                      46\n",
       "longitude                                     46\n",
       "Industry_consolidated                          0\n",
       "spc_Food Business                              0\n",
       "spc_Education                                  0\n",
       "spc_Financial Services                         0\n",
       "spc_Healthcare_health                          0\n",
       "spc_Human Resources                            0\n",
       "spc_Logistics and Supply Chain                 0\n",
       "spc_Entertainment                              0\n",
       "spc_Computer & Network Security & Hardware     0\n",
       "spc_Real_estate                                0\n",
       "spc_Marketing and Advertising                  0\n",
       "spc_commerce                                   0\n",
       "spc_mobile                                     0\n",
       "spc_app                                        0\n",
       "spc_analysis                                   0\n",
       "spc_developer                                  0\n",
       "spc_security                                   0\n",
       "spc_social                                     0\n",
       "spc_ds                                         0\n",
       "spc_travel                                     0\n",
       "spc_booking_ticketing                          0\n",
       "spc_Apparel                                    0\n",
       "spc_cloud                                      0\n",
       "spc_API                                        0\n",
       "spc_device                                     0\n",
       "spc_design                                     0\n",
       "spc_enterprise                                 0\n",
       "spc_product                                    0\n",
       "spc_robotics_manufacturing                     0\n",
       "spc_total                                      0\n",
       "dtype: int64"
      ]
     },
     "execution_count": 13,
     "metadata": {},
     "output_type": "execute_result"
    }
   ],
   "source": [
    "# confirm there is no NAs\n",
    "data.apply(lambda col: sum(col.isnull()), axis = 0)"
   ]
  },
  {
   "cell_type": "code",
   "execution_count": 14,
   "metadata": {
    "scrolled": true
   },
   "outputs": [],
   "source": [
    "# list(data.loc[:,'spc_Food Business':'spc_robotics_manufacturing'])"
   ]
  },
  {
   "cell_type": "code",
   "execution_count": 15,
   "metadata": {},
   "outputs": [
    {
     "data": {
      "text/plain": [
       "(232, 56)"
      ]
     },
     "execution_count": 15,
     "metadata": {},
     "output_type": "execute_result"
    }
   ],
   "source": [
    "data.shape"
   ]
  },
  {
   "cell_type": "code",
   "execution_count": 16,
   "metadata": {
    "scrolled": true
   },
   "outputs": [],
   "source": [
    "data = data[data.Country == \"United States\"]\n",
    "cols = ['CompanyName', 'money_raised_float','Founded', 'CompanySize']\n",
    "data = data[cols]\n",
    "x_train = data[['money_raised_float','Founded', 'CompanySize']]"
   ]
  },
  {
   "cell_type": "code",
   "execution_count": 48,
   "metadata": {
    "scrolled": false
   },
   "outputs": [
    {
     "data": {
      "text/plain": [
       "(178, 4)"
      ]
     },
     "execution_count": 48,
     "metadata": {},
     "output_type": "execute_result"
    }
   ],
   "source": [
    "# reset index\n",
    "data = data.reset_index(drop=True)\n",
    "data.shape"
   ]
  },
  {
   "cell_type": "code",
   "execution_count": 49,
   "metadata": {
    "scrolled": false
   },
   "outputs": [
    {
     "data": {
      "text/plain": [
       "(178, 3)"
      ]
     },
     "execution_count": 49,
     "metadata": {},
     "output_type": "execute_result"
    }
   ],
   "source": [
    "x_train.shape"
   ]
  },
  {
   "cell_type": "code",
   "execution_count": 18,
   "metadata": {
    "scrolled": false
   },
   "outputs": [
    {
     "data": {
      "text/plain": [
       "array(['51-200', '201-500', 'Nov-50', '1001-5000', '501-1000',\n",
       "       '5001-10,000', '10,001+'], dtype=object)"
      ]
     },
     "execution_count": 18,
     "metadata": {},
     "output_type": "execute_result"
    }
   ],
   "source": [
    "x_train.CompanySize.unique()"
   ]
  },
  {
   "cell_type": "code",
   "execution_count": 19,
   "metadata": {},
   "outputs": [],
   "source": [
    "def convert_CompanySize(size):\n",
    "    if size == 'Nov-50':\n",
    "        return 1\n",
    "    elif size == '51-200':\n",
    "        return 2\n",
    "    elif size == '201-500':\n",
    "        return 3\n",
    "    elif size == \"501-1000\":\n",
    "        return 4\n",
    "    elif size == \"1001-5000\":\n",
    "        return 5\n",
    "    elif size == \"5001-10,000\":\n",
    "        return 6\n",
    "    elif size == \"10,001+\":\n",
    "        return 7\n",
    "    else:\n",
    "        return 0\n",
    "\n",
    "x_train[\"t_CompanySize\"] = x_train.CompanySize.apply(\n",
    "    lambda size: convert_CompanySize(size))\n"
   ]
  },
  {
   "cell_type": "code",
   "execution_count": 20,
   "metadata": {
    "scrolled": false
   },
   "outputs": [
    {
     "data": {
      "text/plain": [
       "2    76\n",
       "3    52\n",
       "1    20\n",
       "5    15\n",
       "4    12\n",
       "6     2\n",
       "7     1\n",
       "Name: t_CompanySize, dtype: int64"
      ]
     },
     "execution_count": 20,
     "metadata": {},
     "output_type": "execute_result"
    }
   ],
   "source": [
    "x_train[\"t_CompanySize\"].value_counts()"
   ]
  },
  {
   "cell_type": "code",
   "execution_count": 21,
   "metadata": {
    "collapsed": true
   },
   "outputs": [],
   "source": [
    "x_train.drop(['CompanySize'], axis = 1, inplace = True)"
   ]
  },
  {
   "cell_type": "code",
   "execution_count": 22,
   "metadata": {
    "scrolled": true
   },
   "outputs": [
    {
     "data": {
      "text/html": [
       "<div>\n",
       "<table border=\"1\" class=\"dataframe\">\n",
       "  <thead>\n",
       "    <tr style=\"text-align: right;\">\n",
       "      <th></th>\n",
       "      <th>money_raised_float</th>\n",
       "      <th>Founded</th>\n",
       "      <th>t_CompanySize</th>\n",
       "    </tr>\n",
       "  </thead>\n",
       "  <tbody>\n",
       "    <tr>\n",
       "      <th>2</th>\n",
       "      <td>40.0</td>\n",
       "      <td>2015.0</td>\n",
       "      <td>2</td>\n",
       "    </tr>\n",
       "    <tr>\n",
       "      <th>4</th>\n",
       "      <td>90.0</td>\n",
       "      <td>2013.0</td>\n",
       "      <td>3</td>\n",
       "    </tr>\n",
       "    <tr>\n",
       "      <th>6</th>\n",
       "      <td>29.0</td>\n",
       "      <td>2012.0</td>\n",
       "      <td>2</td>\n",
       "    </tr>\n",
       "    <tr>\n",
       "      <th>7</th>\n",
       "      <td>32.0</td>\n",
       "      <td>2013.0</td>\n",
       "      <td>2</td>\n",
       "    </tr>\n",
       "    <tr>\n",
       "      <th>8</th>\n",
       "      <td>36.0</td>\n",
       "      <td>2011.0</td>\n",
       "      <td>2</td>\n",
       "    </tr>\n",
       "  </tbody>\n",
       "</table>\n",
       "</div>"
      ],
      "text/plain": [
       "   money_raised_float  Founded  t_CompanySize\n",
       "2                40.0   2015.0              2\n",
       "4                90.0   2013.0              3\n",
       "6                29.0   2012.0              2\n",
       "7                32.0   2013.0              2\n",
       "8                36.0   2011.0              2"
      ]
     },
     "execution_count": 22,
     "metadata": {},
     "output_type": "execute_result"
    }
   ],
   "source": [
    "x_train.head(5)"
   ]
  },
  {
   "cell_type": "code",
   "execution_count": 23,
   "metadata": {},
   "outputs": [
    {
     "data": {
      "text/plain": [
       "(178, 3)"
      ]
     },
     "execution_count": 23,
     "metadata": {},
     "output_type": "execute_result"
    }
   ],
   "source": [
    "x_train.shape"
   ]
  },
  {
   "cell_type": "code",
   "execution_count": 24,
   "metadata": {
    "scrolled": true
   },
   "outputs": [],
   "source": [
    "from sklearn.preprocessing import MinMaxScaler\n",
    "scaler = MinMaxScaler()\n",
    "x_train_minmax = scaler.fit_transform(x_train)"
   ]
  },
  {
   "cell_type": "code",
   "execution_count": 25,
   "metadata": {
    "scrolled": true
   },
   "outputs": [
    {
     "data": {
      "text/html": [
       "<div>\n",
       "<table border=\"1\" class=\"dataframe\">\n",
       "  <thead>\n",
       "    <tr style=\"text-align: right;\">\n",
       "      <th></th>\n",
       "      <th>0</th>\n",
       "      <th>1</th>\n",
       "      <th>2</th>\n",
       "    </tr>\n",
       "  </thead>\n",
       "  <tbody>\n",
       "    <tr>\n",
       "      <th>0</th>\n",
       "      <td>0.038290</td>\n",
       "      <td>0.974359</td>\n",
       "      <td>0.166667</td>\n",
       "    </tr>\n",
       "    <tr>\n",
       "      <th>1</th>\n",
       "      <td>0.102106</td>\n",
       "      <td>0.948718</td>\n",
       "      <td>0.333333</td>\n",
       "    </tr>\n",
       "    <tr>\n",
       "      <th>2</th>\n",
       "      <td>0.024250</td>\n",
       "      <td>0.935897</td>\n",
       "      <td>0.166667</td>\n",
       "    </tr>\n",
       "    <tr>\n",
       "      <th>3</th>\n",
       "      <td>0.028079</td>\n",
       "      <td>0.948718</td>\n",
       "      <td>0.166667</td>\n",
       "    </tr>\n",
       "    <tr>\n",
       "      <th>4</th>\n",
       "      <td>0.033184</td>\n",
       "      <td>0.923077</td>\n",
       "      <td>0.166667</td>\n",
       "    </tr>\n",
       "    <tr>\n",
       "      <th>5</th>\n",
       "      <td>0.012763</td>\n",
       "      <td>0.948718</td>\n",
       "      <td>0.166667</td>\n",
       "    </tr>\n",
       "    <tr>\n",
       "      <th>6</th>\n",
       "      <td>0.081047</td>\n",
       "      <td>0.948718</td>\n",
       "      <td>0.333333</td>\n",
       "    </tr>\n",
       "    <tr>\n",
       "      <th>7</th>\n",
       "      <td>0.062540</td>\n",
       "      <td>0.935897</td>\n",
       "      <td>0.333333</td>\n",
       "    </tr>\n",
       "    <tr>\n",
       "      <th>8</th>\n",
       "      <td>0.056158</td>\n",
       "      <td>0.923077</td>\n",
       "      <td>0.333333</td>\n",
       "    </tr>\n",
       "    <tr>\n",
       "      <th>9</th>\n",
       "      <td>0.002553</td>\n",
       "      <td>0.910256</td>\n",
       "      <td>0.166667</td>\n",
       "    </tr>\n",
       "    <tr>\n",
       "      <th>10</th>\n",
       "      <td>0.038290</td>\n",
       "      <td>0.910256</td>\n",
       "      <td>0.000000</td>\n",
       "    </tr>\n",
       "    <tr>\n",
       "      <th>11</th>\n",
       "      <td>0.019145</td>\n",
       "      <td>0.846154</td>\n",
       "      <td>0.333333</td>\n",
       "    </tr>\n",
       "    <tr>\n",
       "      <th>12</th>\n",
       "      <td>0.006382</td>\n",
       "      <td>0.858974</td>\n",
       "      <td>0.166667</td>\n",
       "    </tr>\n",
       "    <tr>\n",
       "      <th>13</th>\n",
       "      <td>0.031908</td>\n",
       "      <td>0.897436</td>\n",
       "      <td>0.666667</td>\n",
       "    </tr>\n",
       "    <tr>\n",
       "      <th>14</th>\n",
       "      <td>0.025526</td>\n",
       "      <td>0.935897</td>\n",
       "      <td>0.166667</td>\n",
       "    </tr>\n",
       "    <tr>\n",
       "      <th>15</th>\n",
       "      <td>0.082961</td>\n",
       "      <td>0.923077</td>\n",
       "      <td>0.333333</td>\n",
       "    </tr>\n",
       "    <tr>\n",
       "      <th>16</th>\n",
       "      <td>0.012763</td>\n",
       "      <td>0.910256</td>\n",
       "      <td>0.000000</td>\n",
       "    </tr>\n",
       "    <tr>\n",
       "      <th>17</th>\n",
       "      <td>0.021698</td>\n",
       "      <td>0.923077</td>\n",
       "      <td>0.166667</td>\n",
       "    </tr>\n",
       "    <tr>\n",
       "      <th>18</th>\n",
       "      <td>1.000000</td>\n",
       "      <td>0.923077</td>\n",
       "      <td>0.666667</td>\n",
       "    </tr>\n",
       "    <tr>\n",
       "      <th>19</th>\n",
       "      <td>0.044671</td>\n",
       "      <td>0.935897</td>\n",
       "      <td>0.333333</td>\n",
       "    </tr>\n",
       "    <tr>\n",
       "      <th>20</th>\n",
       "      <td>0.050415</td>\n",
       "      <td>0.935897</td>\n",
       "      <td>0.333333</td>\n",
       "    </tr>\n",
       "    <tr>\n",
       "      <th>21</th>\n",
       "      <td>0.008934</td>\n",
       "      <td>0.871795</td>\n",
       "      <td>0.166667</td>\n",
       "    </tr>\n",
       "    <tr>\n",
       "      <th>22</th>\n",
       "      <td>0.002553</td>\n",
       "      <td>0.923077</td>\n",
       "      <td>0.333333</td>\n",
       "    </tr>\n",
       "    <tr>\n",
       "      <th>23</th>\n",
       "      <td>0.191449</td>\n",
       "      <td>0.935897</td>\n",
       "      <td>0.666667</td>\n",
       "    </tr>\n",
       "    <tr>\n",
       "      <th>24</th>\n",
       "      <td>0.000000</td>\n",
       "      <td>0.871795</td>\n",
       "      <td>0.000000</td>\n",
       "    </tr>\n",
       "    <tr>\n",
       "      <th>25</th>\n",
       "      <td>0.012763</td>\n",
       "      <td>0.884615</td>\n",
       "      <td>0.166667</td>\n",
       "    </tr>\n",
       "    <tr>\n",
       "      <th>26</th>\n",
       "      <td>0.027441</td>\n",
       "      <td>0.897436</td>\n",
       "      <td>0.333333</td>\n",
       "    </tr>\n",
       "    <tr>\n",
       "      <th>27</th>\n",
       "      <td>0.007658</td>\n",
       "      <td>0.858974</td>\n",
       "      <td>0.333333</td>\n",
       "    </tr>\n",
       "    <tr>\n",
       "      <th>28</th>\n",
       "      <td>0.089343</td>\n",
       "      <td>0.897436</td>\n",
       "      <td>0.166667</td>\n",
       "    </tr>\n",
       "    <tr>\n",
       "      <th>29</th>\n",
       "      <td>0.012763</td>\n",
       "      <td>0.923077</td>\n",
       "      <td>0.166667</td>\n",
       "    </tr>\n",
       "    <tr>\n",
       "      <th>...</th>\n",
       "      <td>...</td>\n",
       "      <td>...</td>\n",
       "      <td>...</td>\n",
       "    </tr>\n",
       "    <tr>\n",
       "      <th>148</th>\n",
       "      <td>0.082961</td>\n",
       "      <td>0.897436</td>\n",
       "      <td>0.333333</td>\n",
       "    </tr>\n",
       "    <tr>\n",
       "      <th>149</th>\n",
       "      <td>0.019145</td>\n",
       "      <td>0.794872</td>\n",
       "      <td>0.166667</td>\n",
       "    </tr>\n",
       "    <tr>\n",
       "      <th>150</th>\n",
       "      <td>0.031908</td>\n",
       "      <td>0.923077</td>\n",
       "      <td>0.333333</td>\n",
       "    </tr>\n",
       "    <tr>\n",
       "      <th>151</th>\n",
       "      <td>0.006382</td>\n",
       "      <td>0.923077</td>\n",
       "      <td>0.166667</td>\n",
       "    </tr>\n",
       "    <tr>\n",
       "      <th>152</th>\n",
       "      <td>0.042119</td>\n",
       "      <td>0.820513</td>\n",
       "      <td>0.333333</td>\n",
       "    </tr>\n",
       "    <tr>\n",
       "      <th>153</th>\n",
       "      <td>0.015316</td>\n",
       "      <td>0.897436</td>\n",
       "      <td>0.166667</td>\n",
       "    </tr>\n",
       "    <tr>\n",
       "      <th>154</th>\n",
       "      <td>0.012763</td>\n",
       "      <td>0.794872</td>\n",
       "      <td>0.333333</td>\n",
       "    </tr>\n",
       "    <tr>\n",
       "      <th>155</th>\n",
       "      <td>0.006382</td>\n",
       "      <td>0.923077</td>\n",
       "      <td>0.000000</td>\n",
       "    </tr>\n",
       "    <tr>\n",
       "      <th>156</th>\n",
       "      <td>0.019145</td>\n",
       "      <td>0.871795</td>\n",
       "      <td>0.166667</td>\n",
       "    </tr>\n",
       "    <tr>\n",
       "      <th>157</th>\n",
       "      <td>0.007913</td>\n",
       "      <td>0.858974</td>\n",
       "      <td>0.000000</td>\n",
       "    </tr>\n",
       "    <tr>\n",
       "      <th>158</th>\n",
       "      <td>0.002553</td>\n",
       "      <td>0.935897</td>\n",
       "      <td>0.166667</td>\n",
       "    </tr>\n",
       "    <tr>\n",
       "      <th>159</th>\n",
       "      <td>0.003829</td>\n",
       "      <td>0.871795</td>\n",
       "      <td>0.166667</td>\n",
       "    </tr>\n",
       "    <tr>\n",
       "      <th>160</th>\n",
       "      <td>0.051053</td>\n",
       "      <td>0.897436</td>\n",
       "      <td>0.333333</td>\n",
       "    </tr>\n",
       "    <tr>\n",
       "      <th>161</th>\n",
       "      <td>0.019145</td>\n",
       "      <td>0.961538</td>\n",
       "      <td>0.166667</td>\n",
       "    </tr>\n",
       "    <tr>\n",
       "      <th>162</th>\n",
       "      <td>0.038290</td>\n",
       "      <td>0.884615</td>\n",
       "      <td>0.333333</td>\n",
       "    </tr>\n",
       "    <tr>\n",
       "      <th>163</th>\n",
       "      <td>0.017869</td>\n",
       "      <td>0.000000</td>\n",
       "      <td>0.833333</td>\n",
       "    </tr>\n",
       "    <tr>\n",
       "      <th>164</th>\n",
       "      <td>0.000000</td>\n",
       "      <td>0.935897</td>\n",
       "      <td>0.000000</td>\n",
       "    </tr>\n",
       "    <tr>\n",
       "      <th>165</th>\n",
       "      <td>0.012763</td>\n",
       "      <td>0.961538</td>\n",
       "      <td>0.166667</td>\n",
       "    </tr>\n",
       "    <tr>\n",
       "      <th>166</th>\n",
       "      <td>0.002553</td>\n",
       "      <td>1.000000</td>\n",
       "      <td>0.000000</td>\n",
       "    </tr>\n",
       "    <tr>\n",
       "      <th>167</th>\n",
       "      <td>0.003829</td>\n",
       "      <td>0.884615</td>\n",
       "      <td>0.000000</td>\n",
       "    </tr>\n",
       "    <tr>\n",
       "      <th>168</th>\n",
       "      <td>0.024250</td>\n",
       "      <td>0.935897</td>\n",
       "      <td>0.166667</td>\n",
       "    </tr>\n",
       "    <tr>\n",
       "      <th>169</th>\n",
       "      <td>0.108488</td>\n",
       "      <td>0.948718</td>\n",
       "      <td>0.333333</td>\n",
       "    </tr>\n",
       "    <tr>\n",
       "      <th>170</th>\n",
       "      <td>0.165922</td>\n",
       "      <td>0.807692</td>\n",
       "      <td>0.000000</td>\n",
       "    </tr>\n",
       "    <tr>\n",
       "      <th>171</th>\n",
       "      <td>0.006382</td>\n",
       "      <td>0.923077</td>\n",
       "      <td>0.166667</td>\n",
       "    </tr>\n",
       "    <tr>\n",
       "      <th>172</th>\n",
       "      <td>0.010211</td>\n",
       "      <td>0.935897</td>\n",
       "      <td>0.166667</td>\n",
       "    </tr>\n",
       "    <tr>\n",
       "      <th>173</th>\n",
       "      <td>0.015316</td>\n",
       "      <td>0.935897</td>\n",
       "      <td>0.166667</td>\n",
       "    </tr>\n",
       "    <tr>\n",
       "      <th>174</th>\n",
       "      <td>0.031908</td>\n",
       "      <td>0.935897</td>\n",
       "      <td>0.333333</td>\n",
       "    </tr>\n",
       "    <tr>\n",
       "      <th>175</th>\n",
       "      <td>0.255265</td>\n",
       "      <td>0.961538</td>\n",
       "      <td>0.333333</td>\n",
       "    </tr>\n",
       "    <tr>\n",
       "      <th>176</th>\n",
       "      <td>0.000000</td>\n",
       "      <td>0.961538</td>\n",
       "      <td>0.500000</td>\n",
       "    </tr>\n",
       "    <tr>\n",
       "      <th>177</th>\n",
       "      <td>0.019145</td>\n",
       "      <td>0.923077</td>\n",
       "      <td>0.166667</td>\n",
       "    </tr>\n",
       "  </tbody>\n",
       "</table>\n",
       "<p>178 rows × 3 columns</p>\n",
       "</div>"
      ],
      "text/plain": [
       "            0         1         2\n",
       "0    0.038290  0.974359  0.166667\n",
       "1    0.102106  0.948718  0.333333\n",
       "2    0.024250  0.935897  0.166667\n",
       "3    0.028079  0.948718  0.166667\n",
       "4    0.033184  0.923077  0.166667\n",
       "5    0.012763  0.948718  0.166667\n",
       "6    0.081047  0.948718  0.333333\n",
       "7    0.062540  0.935897  0.333333\n",
       "8    0.056158  0.923077  0.333333\n",
       "9    0.002553  0.910256  0.166667\n",
       "10   0.038290  0.910256  0.000000\n",
       "11   0.019145  0.846154  0.333333\n",
       "12   0.006382  0.858974  0.166667\n",
       "13   0.031908  0.897436  0.666667\n",
       "14   0.025526  0.935897  0.166667\n",
       "15   0.082961  0.923077  0.333333\n",
       "16   0.012763  0.910256  0.000000\n",
       "17   0.021698  0.923077  0.166667\n",
       "18   1.000000  0.923077  0.666667\n",
       "19   0.044671  0.935897  0.333333\n",
       "20   0.050415  0.935897  0.333333\n",
       "21   0.008934  0.871795  0.166667\n",
       "22   0.002553  0.923077  0.333333\n",
       "23   0.191449  0.935897  0.666667\n",
       "24   0.000000  0.871795  0.000000\n",
       "25   0.012763  0.884615  0.166667\n",
       "26   0.027441  0.897436  0.333333\n",
       "27   0.007658  0.858974  0.333333\n",
       "28   0.089343  0.897436  0.166667\n",
       "29   0.012763  0.923077  0.166667\n",
       "..        ...       ...       ...\n",
       "148  0.082961  0.897436  0.333333\n",
       "149  0.019145  0.794872  0.166667\n",
       "150  0.031908  0.923077  0.333333\n",
       "151  0.006382  0.923077  0.166667\n",
       "152  0.042119  0.820513  0.333333\n",
       "153  0.015316  0.897436  0.166667\n",
       "154  0.012763  0.794872  0.333333\n",
       "155  0.006382  0.923077  0.000000\n",
       "156  0.019145  0.871795  0.166667\n",
       "157  0.007913  0.858974  0.000000\n",
       "158  0.002553  0.935897  0.166667\n",
       "159  0.003829  0.871795  0.166667\n",
       "160  0.051053  0.897436  0.333333\n",
       "161  0.019145  0.961538  0.166667\n",
       "162  0.038290  0.884615  0.333333\n",
       "163  0.017869  0.000000  0.833333\n",
       "164  0.000000  0.935897  0.000000\n",
       "165  0.012763  0.961538  0.166667\n",
       "166  0.002553  1.000000  0.000000\n",
       "167  0.003829  0.884615  0.000000\n",
       "168  0.024250  0.935897  0.166667\n",
       "169  0.108488  0.948718  0.333333\n",
       "170  0.165922  0.807692  0.000000\n",
       "171  0.006382  0.923077  0.166667\n",
       "172  0.010211  0.935897  0.166667\n",
       "173  0.015316  0.935897  0.166667\n",
       "174  0.031908  0.935897  0.333333\n",
       "175  0.255265  0.961538  0.333333\n",
       "176  0.000000  0.961538  0.500000\n",
       "177  0.019145  0.923077  0.166667\n",
       "\n",
       "[178 rows x 3 columns]"
      ]
     },
     "execution_count": 25,
     "metadata": {},
     "output_type": "execute_result"
    }
   ],
   "source": [
    "# confirm the transformation\n",
    "x_train_minmax_df = pd.DataFrame(x_train_minmax)\n",
    "x_train_minmax_df"
   ]
  },
  {
   "cell_type": "code",
   "execution_count": 53,
   "metadata": {},
   "outputs": [],
   "source": [
    "import numpy as np\n",
    "x_test = np.array([[10, 2015, 1],\n",
    "                 [20, 2010, 2],\n",
    "                [100, 2010, 4],\n",
    "                  [200, 2013, 2]])"
   ]
  },
  {
   "cell_type": "code",
   "execution_count": 54,
   "metadata": {},
   "outputs": [
    {
     "data": {
      "text/plain": [
       "array([[ 0.        ,  0.97435897,  0.        ],\n",
       "       [ 0.01276324,  0.91025641,  0.16666667],\n",
       "       [ 0.11486918,  0.91025641,  0.5       ],\n",
       "       [ 0.2425016 ,  0.94871795,  0.16666667]])"
      ]
     },
     "execution_count": 54,
     "metadata": {},
     "output_type": "execute_result"
    }
   ],
   "source": [
    "x_test_minmax = scaler.transform(x_test)\n",
    "x_test_minmax"
   ]
  },
  {
   "cell_type": "code",
   "execution_count": 55,
   "metadata": {},
   "outputs": [
    {
     "data": {
      "text/plain": [
       "NearestNeighbors(algorithm='brute', leaf_size=30, metric='cosine',\n",
       "         metric_params=None, n_jobs=1, n_neighbors=5, p=2, radius=1.0)"
      ]
     },
     "execution_count": 55,
     "metadata": {},
     "output_type": "execute_result"
    }
   ],
   "source": [
    "from sklearn.neighbors import NearestNeighbors\n",
    "model_knn = NearestNeighbors(metric = 'cosine', algorithm = 'brute')\n",
    "model_knn.fit(x_train_minmax_df)"
   ]
  },
  {
   "cell_type": "code",
   "execution_count": 56,
   "metadata": {},
   "outputs": [
    {
     "data": {
      "text/plain": [
       "array([[ 24, 164,  35, 126, 166, 167],\n",
       "       [ 29,  58,  80, 153,  25, 173],\n",
       "       [ 98, 121, 144,  43, 105, 143],\n",
       "       [115,  56,  72, 112,  28,  71]], dtype=int64)"
      ]
     },
     "execution_count": 56,
     "metadata": {},
     "output_type": "execute_result"
    }
   ],
   "source": [
    "distances, indices = model_knn.kneighbors(x_test_minmax, n_neighbors = 6)\n",
    "\n",
    "indices"
   ]
  },
  {
   "cell_type": "code",
   "execution_count": 57,
   "metadata": {
    "scrolled": true
   },
   "outputs": [
    {
     "data": {
      "text/html": [
       "<div>\n",
       "<table border=\"1\" class=\"dataframe\">\n",
       "  <thead>\n",
       "    <tr style=\"text-align: right;\">\n",
       "      <th></th>\n",
       "      <th>CompanyName</th>\n",
       "      <th>money_raised_float</th>\n",
       "      <th>Founded</th>\n",
       "      <th>CompanySize</th>\n",
       "    </tr>\n",
       "  </thead>\n",
       "  <tbody>\n",
       "    <tr>\n",
       "      <th>24</th>\n",
       "      <td>Digital Postal Mail</td>\n",
       "      <td>10.0</td>\n",
       "      <td>2007.0</td>\n",
       "      <td>Nov-50</td>\n",
       "    </tr>\n",
       "    <tr>\n",
       "      <th>164</th>\n",
       "      <td>LISNR</td>\n",
       "      <td>10.0</td>\n",
       "      <td>2012.0</td>\n",
       "      <td>Nov-50</td>\n",
       "    </tr>\n",
       "    <tr>\n",
       "      <th>35</th>\n",
       "      <td>rPath</td>\n",
       "      <td>10.0</td>\n",
       "      <td>2005.0</td>\n",
       "      <td>Nov-50</td>\n",
       "    </tr>\n",
       "    <tr>\n",
       "      <th>126</th>\n",
       "      <td>Lumo Bodytech</td>\n",
       "      <td>10.0</td>\n",
       "      <td>2011.0</td>\n",
       "      <td>Nov-50</td>\n",
       "    </tr>\n",
       "    <tr>\n",
       "      <th>166</th>\n",
       "      <td>LimeBike</td>\n",
       "      <td>12.0</td>\n",
       "      <td>2017.0</td>\n",
       "      <td>Nov-50</td>\n",
       "    </tr>\n",
       "    <tr>\n",
       "      <th>167</th>\n",
       "      <td>Occipital</td>\n",
       "      <td>13.0</td>\n",
       "      <td>2008.0</td>\n",
       "      <td>Nov-50</td>\n",
       "    </tr>\n",
       "  </tbody>\n",
       "</table>\n",
       "</div>"
      ],
      "text/plain": [
       "             CompanyName  money_raised_float  Founded CompanySize\n",
       "24   Digital Postal Mail                10.0   2007.0      Nov-50\n",
       "164                LISNR                10.0   2012.0      Nov-50\n",
       "35                 rPath                10.0   2005.0      Nov-50\n",
       "126        Lumo Bodytech                10.0   2011.0      Nov-50\n",
       "166             LimeBike                12.0   2017.0      Nov-50\n",
       "167            Occipital                13.0   2008.0      Nov-50"
      ]
     },
     "execution_count": 57,
     "metadata": {},
     "output_type": "execute_result"
    }
   ],
   "source": [
    "data.ix[indices[0]]"
   ]
  },
  {
   "cell_type": "code",
   "execution_count": 58,
   "metadata": {
    "scrolled": false
   },
   "outputs": [
    {
     "data": {
      "text/html": [
       "<div>\n",
       "<table border=\"1\" class=\"dataframe\">\n",
       "  <thead>\n",
       "    <tr style=\"text-align: right;\">\n",
       "      <th></th>\n",
       "      <th>CompanyName</th>\n",
       "      <th>money_raised_float</th>\n",
       "      <th>Founded</th>\n",
       "      <th>CompanySize</th>\n",
       "    </tr>\n",
       "  </thead>\n",
       "  <tbody>\n",
       "    <tr>\n",
       "      <th>29</th>\n",
       "      <td>Duolingo</td>\n",
       "      <td>20.0</td>\n",
       "      <td>2011.0</td>\n",
       "      <td>51-200</td>\n",
       "    </tr>\n",
       "    <tr>\n",
       "      <th>58</th>\n",
       "      <td>Entelo</td>\n",
       "      <td>20.0</td>\n",
       "      <td>2011.0</td>\n",
       "      <td>51-200</td>\n",
       "    </tr>\n",
       "    <tr>\n",
       "      <th>80</th>\n",
       "      <td>Distil Networks</td>\n",
       "      <td>21.0</td>\n",
       "      <td>2011.0</td>\n",
       "      <td>51-200</td>\n",
       "    </tr>\n",
       "    <tr>\n",
       "      <th>153</th>\n",
       "      <td>Cedexis</td>\n",
       "      <td>22.0</td>\n",
       "      <td>2009.0</td>\n",
       "      <td>51-200</td>\n",
       "    </tr>\n",
       "    <tr>\n",
       "      <th>25</th>\n",
       "      <td>Conductor, Inc.</td>\n",
       "      <td>20.0</td>\n",
       "      <td>2008.0</td>\n",
       "      <td>51-200</td>\n",
       "    </tr>\n",
       "    <tr>\n",
       "      <th>173</th>\n",
       "      <td>Narvar</td>\n",
       "      <td>22.0</td>\n",
       "      <td>2012.0</td>\n",
       "      <td>51-200</td>\n",
       "    </tr>\n",
       "  </tbody>\n",
       "</table>\n",
       "</div>"
      ],
      "text/plain": [
       "         CompanyName  money_raised_float  Founded CompanySize\n",
       "29          Duolingo                20.0   2011.0      51-200\n",
       "58            Entelo                20.0   2011.0      51-200\n",
       "80   Distil Networks                21.0   2011.0      51-200\n",
       "153          Cedexis                22.0   2009.0      51-200\n",
       "25   Conductor, Inc.                20.0   2008.0      51-200\n",
       "173           Narvar                22.0   2012.0      51-200"
      ]
     },
     "execution_count": 58,
     "metadata": {},
     "output_type": "execute_result"
    }
   ],
   "source": [
    "data.ix[indices[1]]"
   ]
  },
  {
   "cell_type": "code",
   "execution_count": 59,
   "metadata": {
    "scrolled": true
   },
   "outputs": [
    {
     "data": {
      "text/html": [
       "<div>\n",
       "<table border=\"1\" class=\"dataframe\">\n",
       "  <thead>\n",
       "    <tr style=\"text-align: right;\">\n",
       "      <th></th>\n",
       "      <th>CompanyName</th>\n",
       "      <th>money_raised_float</th>\n",
       "      <th>Founded</th>\n",
       "      <th>CompanySize</th>\n",
       "    </tr>\n",
       "  </thead>\n",
       "  <tbody>\n",
       "    <tr>\n",
       "      <th>98</th>\n",
       "      <td>Elastic</td>\n",
       "      <td>70.0</td>\n",
       "      <td>2012.0</td>\n",
       "      <td>501-1000</td>\n",
       "    </tr>\n",
       "    <tr>\n",
       "      <th>121</th>\n",
       "      <td>Opower</td>\n",
       "      <td>50.0</td>\n",
       "      <td>2007.0</td>\n",
       "      <td>501-1000</td>\n",
       "    </tr>\n",
       "    <tr>\n",
       "      <th>144</th>\n",
       "      <td>Outbrain</td>\n",
       "      <td>35.0</td>\n",
       "      <td>2006.0</td>\n",
       "      <td>501-1000</td>\n",
       "    </tr>\n",
       "    <tr>\n",
       "      <th>43</th>\n",
       "      <td>Quantcast</td>\n",
       "      <td>27.5</td>\n",
       "      <td>2006.0</td>\n",
       "      <td>501-1000</td>\n",
       "    </tr>\n",
       "    <tr>\n",
       "      <th>105</th>\n",
       "      <td>Trion Group, a Marsh &amp; McLennan Agency, LLC Co...</td>\n",
       "      <td>70.0</td>\n",
       "      <td>1999.0</td>\n",
       "      <td>201-500</td>\n",
       "    </tr>\n",
       "    <tr>\n",
       "      <th>143</th>\n",
       "      <td>Coupa Software</td>\n",
       "      <td>22.0</td>\n",
       "      <td>2006.0</td>\n",
       "      <td>501-1000</td>\n",
       "    </tr>\n",
       "  </tbody>\n",
       "</table>\n",
       "</div>"
      ],
      "text/plain": [
       "                                           CompanyName  money_raised_float  \\\n",
       "98                                             Elastic                70.0   \n",
       "121                                             Opower                50.0   \n",
       "144                                           Outbrain                35.0   \n",
       "43                                           Quantcast                27.5   \n",
       "105  Trion Group, a Marsh & McLennan Agency, LLC Co...                70.0   \n",
       "143                                     Coupa Software                22.0   \n",
       "\n",
       "     Founded CompanySize  \n",
       "98    2012.0    501-1000  \n",
       "121   2007.0    501-1000  \n",
       "144   2006.0    501-1000  \n",
       "43    2006.0    501-1000  \n",
       "105   1999.0     201-500  \n",
       "143   2006.0    501-1000  "
      ]
     },
     "execution_count": 59,
     "metadata": {},
     "output_type": "execute_result"
    }
   ],
   "source": [
    "data.ix[indices[2]]"
   ]
  },
  {
   "cell_type": "code",
   "execution_count": 60,
   "metadata": {},
   "outputs": [
    {
     "data": {
      "text/html": [
       "<div>\n",
       "<table border=\"1\" class=\"dataframe\">\n",
       "  <thead>\n",
       "    <tr style=\"text-align: right;\">\n",
       "      <th></th>\n",
       "      <th>CompanyName</th>\n",
       "      <th>money_raised_float</th>\n",
       "      <th>Founded</th>\n",
       "      <th>CompanySize</th>\n",
       "    </tr>\n",
       "  </thead>\n",
       "  <tbody>\n",
       "    <tr>\n",
       "      <th>115</th>\n",
       "      <td>letgo</td>\n",
       "      <td>175.0</td>\n",
       "      <td>2015.0</td>\n",
       "      <td>51-200</td>\n",
       "    </tr>\n",
       "    <tr>\n",
       "      <th>56</th>\n",
       "      <td>Databricks</td>\n",
       "      <td>140.0</td>\n",
       "      <td>2013.0</td>\n",
       "      <td>51-200</td>\n",
       "    </tr>\n",
       "    <tr>\n",
       "      <th>72</th>\n",
       "      <td>Elevance Renewable Sciences, Inc.</td>\n",
       "      <td>100.0</td>\n",
       "      <td>2007.0</td>\n",
       "      <td>51-200</td>\n",
       "    </tr>\n",
       "    <tr>\n",
       "      <th>112</th>\n",
       "      <td>Banjo</td>\n",
       "      <td>100.0</td>\n",
       "      <td>2011.0</td>\n",
       "      <td>51-200</td>\n",
       "    </tr>\n",
       "    <tr>\n",
       "      <th>28</th>\n",
       "      <td>Quora</td>\n",
       "      <td>80.0</td>\n",
       "      <td>2009.0</td>\n",
       "      <td>51-200</td>\n",
       "    </tr>\n",
       "    <tr>\n",
       "      <th>71</th>\n",
       "      <td>Carbon</td>\n",
       "      <td>81.0</td>\n",
       "      <td>2013.0</td>\n",
       "      <td>51-200</td>\n",
       "    </tr>\n",
       "  </tbody>\n",
       "</table>\n",
       "</div>"
      ],
      "text/plain": [
       "                           CompanyName  money_raised_float  Founded  \\\n",
       "115                              letgo               175.0   2015.0   \n",
       "56                          Databricks               140.0   2013.0   \n",
       "72   Elevance Renewable Sciences, Inc.               100.0   2007.0   \n",
       "112                              Banjo               100.0   2011.0   \n",
       "28                               Quora                80.0   2009.0   \n",
       "71                              Carbon                81.0   2013.0   \n",
       "\n",
       "    CompanySize  \n",
       "115      51-200  \n",
       "56       51-200  \n",
       "72       51-200  \n",
       "112      51-200  \n",
       "28       51-200  \n",
       "71       51-200  "
      ]
     },
     "execution_count": 60,
     "metadata": {},
     "output_type": "execute_result"
    }
   ],
   "source": [
    "data.ix[indices[3]]"
   ]
  }
 ],
 "metadata": {
  "kernelspec": {
   "display_name": "Python 3",
   "language": "python",
   "name": "python3"
  },
  "language_info": {
   "codemirror_mode": {
    "name": "ipython",
    "version": 3
   },
   "file_extension": ".py",
   "mimetype": "text/x-python",
   "name": "python",
   "nbconvert_exporter": "python",
   "pygments_lexer": "ipython3",
   "version": "3.6.0"
  }
 },
 "nbformat": 4,
 "nbformat_minor": 2
}
