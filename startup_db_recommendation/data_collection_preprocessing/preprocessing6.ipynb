{
 "cells": [
  {
   "cell_type": "code",
   "execution_count": 2,
   "metadata": {
    "scrolled": true
   },
   "outputs": [
    {
     "data": {
      "text/html": [
       "<div>\n",
       "<table border=\"1\" class=\"dataframe\">\n",
       "  <thead>\n",
       "    <tr style=\"text-align: right;\">\n",
       "      <th></th>\n",
       "      <th>linkedin_link</th>\n",
       "      <th>CompanyName</th>\n",
       "      <th>Specialties</th>\n",
       "      <th>Industry</th>\n",
       "      <th>Website</th>\n",
       "      <th>Location</th>\n",
       "      <th>CompanySize</th>\n",
       "      <th>Description</th>\n",
       "      <th>Founded</th>\n",
       "      <th>Also-viewed</th>\n",
       "    </tr>\n",
       "  </thead>\n",
       "  <tbody>\n",
       "    <tr>\n",
       "      <th>0</th>\n",
       "      <td>https://www.linkedin.com/company/capital-float</td>\n",
       "      <td>Capital Float</td>\n",
       "      <td>Working Capital Finance, Small Business Lendin...</td>\n",
       "      <td>Financial Services</td>\n",
       "      <td>http://www.capitalfloat.com</td>\n",
       "      <td>Gokaldas Chambers, 3rd Floor, 5th Main, Bellar...</td>\n",
       "      <td>201-500</td>\n",
       "      <td>Capital Float is a digital finance company ser...</td>\n",
       "      <td>2013.0</td>\n",
       "      <td>{'Lendingkart': 'https://www.linkedin.com/comp...</td>\n",
       "    </tr>\n",
       "    <tr>\n",
       "      <th>1</th>\n",
       "      <td>https://www.linkedin.com/company/carwow</td>\n",
       "      <td>carwow</td>\n",
       "      <td>New Cars, Car Reviews, Car Chooser, Car Buying</td>\n",
       "      <td>Information Technology and Services</td>\n",
       "      <td>http://www.carwow.co.uk</td>\n",
       "      <td>6th Floor, New Penderel House 283-288 High Hol...</td>\n",
       "      <td>51-200</td>\n",
       "      <td>carwow is the most convenient, stress-free way...</td>\n",
       "      <td>2013.0</td>\n",
       "      <td>{'carwow GmbH': 'https://www.linkedin.com/comp...</td>\n",
       "    </tr>\n",
       "    <tr>\n",
       "      <th>2</th>\n",
       "      <td>https://www.linkedin.com/company/stashinvest</td>\n",
       "      <td>Stash Invest</td>\n",
       "      <td>Investing, Financial Technology, Personal Finance</td>\n",
       "      <td>Financial Services</td>\n",
       "      <td>http://www.stashinvest.com</td>\n",
       "      <td>19 West 22nd Street New York, NY 10010 United ...</td>\n",
       "      <td>51-200</td>\n",
       "      <td>Stash is investing, simplified. We are an inve...</td>\n",
       "      <td>2015.0</td>\n",
       "      <td>{'Acorns': 'https://www.linkedin.com/company/a...</td>\n",
       "    </tr>\n",
       "    <tr>\n",
       "      <th>3</th>\n",
       "      <td>https://www.linkedin.com/company/move-guides</td>\n",
       "      <td>MOVE Guides</td>\n",
       "      <td>International Relocation, Global Mobility, Emp...</td>\n",
       "      <td>Human Resources</td>\n",
       "      <td>http://www.moveguides.com</td>\n",
       "      <td>6 Ramillies Street London, W1F 7TY United Kingdom</td>\n",
       "      <td>51-200</td>\n",
       "      <td>MOVE Guides helps HR teams move their employee...</td>\n",
       "      <td>2011.0</td>\n",
       "      <td>{'Workable': 'https://www.linkedin.com/company...</td>\n",
       "    </tr>\n",
       "    <tr>\n",
       "      <th>4</th>\n",
       "      <td>https://www.linkedin.com/company/cohesity</td>\n",
       "      <td>Cohesity</td>\n",
       "      <td>Storage, Backup, Recovery, Analytics, Test &amp; D...</td>\n",
       "      <td>Computer Software</td>\n",
       "      <td>http://www.cohesity.com</td>\n",
       "      <td>451 El Camino Real Santa Clara, California 950...</td>\n",
       "      <td>201-500</td>\n",
       "      <td>Cohesity is a startup based in Santa Clara, fo...</td>\n",
       "      <td>2013.0</td>\n",
       "      <td>{'Rubrik, Inc.': 'https://www.linkedin.com/com...</td>\n",
       "    </tr>\n",
       "    <tr>\n",
       "      <th>5</th>\n",
       "      <td>https://www.linkedin.com/company/capital-float</td>\n",
       "      <td>Capital Float</td>\n",
       "      <td>Working Capital Finance, Small Business Lendin...</td>\n",
       "      <td>Financial Services</td>\n",
       "      <td>http://www.capitalfloat.com</td>\n",
       "      <td>Gokaldas Chambers, 3rd Floor, 5th Main, Bellar...</td>\n",
       "      <td>201-500</td>\n",
       "      <td>Capital Float is a digital finance company ser...</td>\n",
       "      <td>2013.0</td>\n",
       "      <td>{'Lendingkart': 'https://www.linkedin.com/comp...</td>\n",
       "    </tr>\n",
       "    <tr>\n",
       "      <th>6</th>\n",
       "      <td>https://www.linkedin.com/company/capital-float</td>\n",
       "      <td>Capital Float</td>\n",
       "      <td>Working Capital Finance, Small Business Lendin...</td>\n",
       "      <td>Financial Services</td>\n",
       "      <td>http://www.capitalfloat.com</td>\n",
       "      <td>Gokaldas Chambers, 3rd Floor, 5th Main, Bellar...</td>\n",
       "      <td>201-500</td>\n",
       "      <td>Capital Float is a digital finance company ser...</td>\n",
       "      <td>2013.0</td>\n",
       "      <td>{'Lendingkart': 'https://www.linkedin.com/comp...</td>\n",
       "    </tr>\n",
       "    <tr>\n",
       "      <th>7</th>\n",
       "      <td>https://www.linkedin.com/company/carwow</td>\n",
       "      <td>carwow</td>\n",
       "      <td>New Cars, Car Reviews, Car Chooser, Car Buying</td>\n",
       "      <td>Information Technology and Services</td>\n",
       "      <td>http://www.carwow.co.uk</td>\n",
       "      <td>6th Floor, New Penderel House 283-288 High Hol...</td>\n",
       "      <td>51-200</td>\n",
       "      <td>carwow is the most convenient, stress-free way...</td>\n",
       "      <td>2013.0</td>\n",
       "      <td>{'carwow GmbH': 'https://www.linkedin.com/comp...</td>\n",
       "    </tr>\n",
       "    <tr>\n",
       "      <th>8</th>\n",
       "      <td>https://www.linkedin.com/company/stashinvest</td>\n",
       "      <td>Stash Invest</td>\n",
       "      <td>Investing, Financial Technology, Personal Finance</td>\n",
       "      <td>Financial Services</td>\n",
       "      <td>http://www.stashinvest.com</td>\n",
       "      <td>19 West 22nd Street New York, NY 10010 United ...</td>\n",
       "      <td>51-200</td>\n",
       "      <td>Stash is investing, simplified. We are an inve...</td>\n",
       "      <td>2015.0</td>\n",
       "      <td>{'Acorns': 'https://www.linkedin.com/company/a...</td>\n",
       "    </tr>\n",
       "    <tr>\n",
       "      <th>9</th>\n",
       "      <td>https://www.linkedin.com/company/move-guides</td>\n",
       "      <td>MOVE Guides</td>\n",
       "      <td>International Relocation, Global Mobility, Emp...</td>\n",
       "      <td>Human Resources</td>\n",
       "      <td>http://www.moveguides.com</td>\n",
       "      <td>6 Ramillies Street London, W1F 7TY United Kingdom</td>\n",
       "      <td>51-200</td>\n",
       "      <td>MOVE Guides helps HR teams move their employee...</td>\n",
       "      <td>2011.0</td>\n",
       "      <td>{'Workable': 'https://www.linkedin.com/company...</td>\n",
       "    </tr>\n",
       "  </tbody>\n",
       "</table>\n",
       "</div>"
      ],
      "text/plain": [
       "                                    linkedin_link    CompanyName  \\\n",
       "0  https://www.linkedin.com/company/capital-float  Capital Float   \n",
       "1         https://www.linkedin.com/company/carwow         carwow   \n",
       "2    https://www.linkedin.com/company/stashinvest   Stash Invest   \n",
       "3    https://www.linkedin.com/company/move-guides    MOVE Guides   \n",
       "4       https://www.linkedin.com/company/cohesity       Cohesity   \n",
       "5  https://www.linkedin.com/company/capital-float  Capital Float   \n",
       "6  https://www.linkedin.com/company/capital-float  Capital Float   \n",
       "7         https://www.linkedin.com/company/carwow         carwow   \n",
       "8    https://www.linkedin.com/company/stashinvest   Stash Invest   \n",
       "9    https://www.linkedin.com/company/move-guides    MOVE Guides   \n",
       "\n",
       "                                         Specialties  \\\n",
       "0  Working Capital Finance, Small Business Lendin...   \n",
       "1     New Cars, Car Reviews, Car Chooser, Car Buying   \n",
       "2  Investing, Financial Technology, Personal Finance   \n",
       "3  International Relocation, Global Mobility, Emp...   \n",
       "4  Storage, Backup, Recovery, Analytics, Test & D...   \n",
       "5  Working Capital Finance, Small Business Lendin...   \n",
       "6  Working Capital Finance, Small Business Lendin...   \n",
       "7     New Cars, Car Reviews, Car Chooser, Car Buying   \n",
       "8  Investing, Financial Technology, Personal Finance   \n",
       "9  International Relocation, Global Mobility, Emp...   \n",
       "\n",
       "                              Industry                      Website  \\\n",
       "0                   Financial Services  http://www.capitalfloat.com   \n",
       "1  Information Technology and Services      http://www.carwow.co.uk   \n",
       "2                   Financial Services   http://www.stashinvest.com   \n",
       "3                      Human Resources    http://www.moveguides.com   \n",
       "4                    Computer Software      http://www.cohesity.com   \n",
       "5                   Financial Services  http://www.capitalfloat.com   \n",
       "6                   Financial Services  http://www.capitalfloat.com   \n",
       "7  Information Technology and Services      http://www.carwow.co.uk   \n",
       "8                   Financial Services   http://www.stashinvest.com   \n",
       "9                      Human Resources    http://www.moveguides.com   \n",
       "\n",
       "                                            Location CompanySize  \\\n",
       "0  Gokaldas Chambers, 3rd Floor, 5th Main, Bellar...     201-500   \n",
       "1  6th Floor, New Penderel House 283-288 High Hol...      51-200   \n",
       "2  19 West 22nd Street New York, NY 10010 United ...      51-200   \n",
       "3  6 Ramillies Street London, W1F 7TY United Kingdom      51-200   \n",
       "4  451 El Camino Real Santa Clara, California 950...     201-500   \n",
       "5  Gokaldas Chambers, 3rd Floor, 5th Main, Bellar...     201-500   \n",
       "6  Gokaldas Chambers, 3rd Floor, 5th Main, Bellar...     201-500   \n",
       "7  6th Floor, New Penderel House 283-288 High Hol...      51-200   \n",
       "8  19 West 22nd Street New York, NY 10010 United ...      51-200   \n",
       "9  6 Ramillies Street London, W1F 7TY United Kingdom      51-200   \n",
       "\n",
       "                                         Description  Founded  \\\n",
       "0  Capital Float is a digital finance company ser...   2013.0   \n",
       "1  carwow is the most convenient, stress-free way...   2013.0   \n",
       "2  Stash is investing, simplified. We are an inve...   2015.0   \n",
       "3  MOVE Guides helps HR teams move their employee...   2011.0   \n",
       "4  Cohesity is a startup based in Santa Clara, fo...   2013.0   \n",
       "5  Capital Float is a digital finance company ser...   2013.0   \n",
       "6  Capital Float is a digital finance company ser...   2013.0   \n",
       "7  carwow is the most convenient, stress-free way...   2013.0   \n",
       "8  Stash is investing, simplified. We are an inve...   2015.0   \n",
       "9  MOVE Guides helps HR teams move their employee...   2011.0   \n",
       "\n",
       "                                         Also-viewed  \n",
       "0  {'Lendingkart': 'https://www.linkedin.com/comp...  \n",
       "1  {'carwow GmbH': 'https://www.linkedin.com/comp...  \n",
       "2  {'Acorns': 'https://www.linkedin.com/company/a...  \n",
       "3  {'Workable': 'https://www.linkedin.com/company...  \n",
       "4  {'Rubrik, Inc.': 'https://www.linkedin.com/com...  \n",
       "5  {'Lendingkart': 'https://www.linkedin.com/comp...  \n",
       "6  {'Lendingkart': 'https://www.linkedin.com/comp...  \n",
       "7  {'carwow GmbH': 'https://www.linkedin.com/comp...  \n",
       "8  {'Acorns': 'https://www.linkedin.com/company/a...  \n",
       "9  {'Workable': 'https://www.linkedin.com/company...  "
      ]
     },
     "execution_count": 2,
     "metadata": {},
     "output_type": "execute_result"
    }
   ],
   "source": [
    "import pandas as pd\n",
    "df_profile = pd.read_csv(\"company_profile.csv\", encoding='iso-8859-1',\n",
    "                  names = [\"linkedin_link\", \"CompanyName\", \n",
    "                           \"Specialties\", \"Industry\", \"Website\",\n",
    "                          \"Location\", \"CompanySize\", \"Description\",\n",
    "                          \"Founded\", \"Also-viewed\"])\n",
    "df_profile.head(10)"
   ]
  },
  {
   "cell_type": "code",
   "execution_count": 3,
   "metadata": {
    "scrolled": false
   },
   "outputs": [
    {
     "data": {
      "text/plain": [
       "(24, 10)"
      ]
     },
     "execution_count": 3,
     "metadata": {},
     "output_type": "execute_result"
    }
   ],
   "source": [
    "# rows without company name (errors)\n",
    "mask = (df_profile.CompanyName.isnull())\n",
    "df_profile.loc[mask].shape"
   ]
  },
  {
   "cell_type": "code",
   "execution_count": 4,
   "metadata": {
    "collapsed": true
   },
   "outputs": [],
   "source": [
    "# drop them\n",
    "df_profile.drop(df_profile.loc[mask].index, inplace = True)"
   ]
  },
  {
   "cell_type": "code",
   "execution_count": 5,
   "metadata": {},
   "outputs": [
    {
     "data": {
      "text/plain": [
       "(0, 10)"
      ]
     },
     "execution_count": 5,
     "metadata": {},
     "output_type": "execute_result"
    }
   ],
   "source": [
    "# confirm the change\n",
    "mask = (df_profile.CompanyName.isnull())\n",
    "df_profile.loc[mask].shape"
   ]
  },
  {
   "cell_type": "code",
   "execution_count": 6,
   "metadata": {
    "collapsed": true
   },
   "outputs": [],
   "source": [
    "# drop duplicates\n",
    "df_profile.drop_duplicates(subset = [\"linkedin_link\"], inplace = True)"
   ]
  },
  {
   "cell_type": "code",
   "execution_count": 7,
   "metadata": {
    "collapsed": true
   },
   "outputs": [],
   "source": [
    "# find companies missing"
   ]
  },
  {
   "cell_type": "code",
   "execution_count": 8,
   "metadata": {
    "collapsed": true
   },
   "outputs": [],
   "source": [
    "data = pd.read_csv(\"article_after_processing5.csv\", encoding='iso-8859-1')"
   ]
  },
  {
   "cell_type": "code",
   "execution_count": 9,
   "metadata": {
    "collapsed": true
   },
   "outputs": [],
   "source": [
    "merged = pd.merge(data, df_profile, on = \"linkedin_link\", how = \"left\")"
   ]
  },
  {
   "cell_type": "code",
   "execution_count": 10,
   "metadata": {},
   "outputs": [
    {
     "data": {
      "text/plain": [
       "(252, 19)"
      ]
     },
     "execution_count": 10,
     "metadata": {},
     "output_type": "execute_result"
    }
   ],
   "source": [
    "merged.shape"
   ]
  },
  {
   "cell_type": "code",
   "execution_count": 11,
   "metadata": {
    "scrolled": true
   },
   "outputs": [
    {
     "data": {
      "text/plain": [
       "70     https://www.linkedin.com/company/harry%27s-gro...\n",
       "71          https://www.linkedin.com/company/vuze-camera\n",
       "83     https://www.linkedin.com/company/clearpath-rob...\n",
       "93     https://www.linkedin.com/company/bodyshopbids-com\n",
       "102             https://www.linkedin.com/company/242785/\n",
       "170      https://www.linkedin.com/company/makeblock-mbot\n",
       "177               https://www.linkedin.com/company/admob\n",
       "184          https://www.linkedin.com/edu/udacity-164070\n",
       "206      https://www.linkedin.com/company/coraid-storage\n",
       "Name: linkedin_link, dtype: object"
      ]
     },
     "execution_count": 11,
     "metadata": {},
     "output_type": "execute_result"
    }
   ],
   "source": [
    "# rows without company name (errors)\n",
    "mask = (merged.CompanyName.isnull())\n",
    "merged.loc[mask][\"linkedin_link\"]"
   ]
  },
  {
   "cell_type": "code",
   "execution_count": 15,
   "metadata": {},
   "outputs": [
    {
     "data": {
      "text/html": [
       "<div>\n",
       "<table border=\"1\" class=\"dataframe\">\n",
       "  <thead>\n",
       "    <tr style=\"text-align: right;\">\n",
       "      <th></th>\n",
       "      <th>Company</th>\n",
       "      <th>linkedin_link</th>\n",
       "      <th>CompanyName</th>\n",
       "    </tr>\n",
       "  </thead>\n",
       "  <tbody>\n",
       "    <tr>\n",
       "      <th>70</th>\n",
       "      <td>Harry?s</td>\n",
       "      <td>https://www.linkedin.com/company/harry%27s-gro...</td>\n",
       "      <td>NaN</td>\n",
       "    </tr>\n",
       "    <tr>\n",
       "      <th>71</th>\n",
       "      <td>Vuze</td>\n",
       "      <td>https://www.linkedin.com/company/vuze-camera</td>\n",
       "      <td>NaN</td>\n",
       "    </tr>\n",
       "    <tr>\n",
       "      <th>83</th>\n",
       "      <td>Clearpath</td>\n",
       "      <td>https://www.linkedin.com/company/clearpath-rob...</td>\n",
       "      <td>NaN</td>\n",
       "    </tr>\n",
       "    <tr>\n",
       "      <th>93</th>\n",
       "      <td>Snapsheet</td>\n",
       "      <td>https://www.linkedin.com/company/bodyshopbids-com</td>\n",
       "      <td>NaN</td>\n",
       "    </tr>\n",
       "    <tr>\n",
       "      <th>102</th>\n",
       "      <td>Perfect World</td>\n",
       "      <td>https://www.linkedin.com/company/242785/</td>\n",
       "      <td>NaN</td>\n",
       "    </tr>\n",
       "    <tr>\n",
       "      <th>170</th>\n",
       "      <td>Makeblock</td>\n",
       "      <td>https://www.linkedin.com/company/makeblock-mbot</td>\n",
       "      <td>NaN</td>\n",
       "    </tr>\n",
       "    <tr>\n",
       "      <th>177</th>\n",
       "      <td>AdMob</td>\n",
       "      <td>https://www.linkedin.com/company/admob</td>\n",
       "      <td>NaN</td>\n",
       "    </tr>\n",
       "    <tr>\n",
       "      <th>184</th>\n",
       "      <td>Udacity</td>\n",
       "      <td>https://www.linkedin.com/edu/udacity-164070</td>\n",
       "      <td>NaN</td>\n",
       "    </tr>\n",
       "    <tr>\n",
       "      <th>206</th>\n",
       "      <td>Coraid</td>\n",
       "      <td>https://www.linkedin.com/company/coraid-storage</td>\n",
       "      <td>NaN</td>\n",
       "    </tr>\n",
       "  </tbody>\n",
       "</table>\n",
       "</div>"
      ],
      "text/plain": [
       "           Company                                      linkedin_link  \\\n",
       "70         Harry?s  https://www.linkedin.com/company/harry%27s-gro...   \n",
       "71            Vuze       https://www.linkedin.com/company/vuze-camera   \n",
       "83       Clearpath  https://www.linkedin.com/company/clearpath-rob...   \n",
       "93       Snapsheet  https://www.linkedin.com/company/bodyshopbids-com   \n",
       "102  Perfect World           https://www.linkedin.com/company/242785/   \n",
       "170      Makeblock    https://www.linkedin.com/company/makeblock-mbot   \n",
       "177          AdMob             https://www.linkedin.com/company/admob   \n",
       "184        Udacity        https://www.linkedin.com/edu/udacity-164070   \n",
       "206         Coraid    https://www.linkedin.com/company/coraid-storage   \n",
       "\n",
       "    CompanyName  \n",
       "70          NaN  \n",
       "71          NaN  \n",
       "83          NaN  \n",
       "93          NaN  \n",
       "102         NaN  \n",
       "170         NaN  \n",
       "177         NaN  \n",
       "184         NaN  \n",
       "206         NaN  "
      ]
     },
     "execution_count": 15,
     "metadata": {},
     "output_type": "execute_result"
    }
   ],
   "source": [
    "mask = merged.CompanyName.isnull()\n",
    "merged.loc[mask][[\"Company\",\"linkedin_link\", \"CompanyName\"]]"
   ]
  },
  {
   "cell_type": "code",
   "execution_count": 16,
   "metadata": {
    "collapsed": true
   },
   "outputs": [],
   "source": [
    "merged.drop(merged.loc[mask].index, inplace = True)"
   ]
  },
  {
   "cell_type": "code",
   "execution_count": 17,
   "metadata": {
    "scrolled": true
   },
   "outputs": [],
   "source": [
    "merged.to_csv(\"article_after_processing6.csv\", index = False)"
   ]
  }
 ],
 "metadata": {
  "kernelspec": {
   "display_name": "Python 3",
   "language": "python",
   "name": "python3"
  },
  "language_info": {
   "codemirror_mode": {
    "name": "ipython",
    "version": 3
   },
   "file_extension": ".py",
   "mimetype": "text/x-python",
   "name": "python",
   "nbconvert_exporter": "python",
   "pygments_lexer": "ipython3",
   "version": "3.6.0"
  }
 },
 "nbformat": 4,
 "nbformat_minor": 2
}
